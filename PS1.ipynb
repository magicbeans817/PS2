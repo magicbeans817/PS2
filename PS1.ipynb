{
 "cells": [
  {
   "cell_type": "markdown",
   "metadata": {},
   "source": [
    "<font size=6><b>Problem Set 2</b></font><br/>\n",
    "<font size=3>Jan Suchánek<br/>"
   ]
  },
  {
   "cell_type": "markdown",
   "metadata": {},
   "source": [
    "# Problem 1\n",
    "\n",
    "Find complete solution (without any software) of these difference equations and discuss stability of equilibrium:\n",
    "\n",
    "## a)\n",
    "\n",
    "\\begin{equation*}\n",
    "2y_{n+1} + 0.6y_n = 13\n",
    "\\end{equation*}\n",
    "\n",
    "First, I divide the equation by 2 so that coefficient by $y_{n+1}$ is equal to one.\n",
    "\n",
    "\\begin{equation*}\n",
    "y_{n+1} + 0.3y_n = 6.5\n",
    "\\end{equation*}\n",
    "\n",
    "I will start by deriving solution for homogeneous equation. Characteristic polynomial for homogeneous equation:\n",
    "\\begin{equation*}\n",
    "\\lambda + 0.3 = 0\n",
    "\\end{equation*}\n",
    "\n",
    "From this is easily derived that $FS=\\{(-0.3)^n\\}$ (Theorem about fundamental system of difference equations), which brings me to solution for homogeneous equation:\n",
    "\\begin{equation*}\n",
    "y_h(n)=c \\cdot (-0.3)^n, \\; c\\in \\mathbb{R}, n \\in \\mathbb{N}\n",
    "\\end{equation*}\n",
    "\n",
    "Now I will continue by deriving particular solution of this equation. From Theorem about particular solution can be seen that desired particular solution is equal to real constant.\n",
    "\\begin{equation*}\n",
    "y_p(n)=d, \\; d \\in \\mathbb{R}\n",
    "\\end{equation*}\n",
    "\n",
    "I will plug particular solution into original equation divided by two to derive value of $d$:\n",
    "\n",
    "\\begin{equation*}\n",
    "y_{n+1} + 0.3y_n = d+0.3d = 1.3d = 6.5 \\rightarrow d = 5 \\rightarrow y_p(n)=5\n",
    "\\end{equation*}\n",
    "\n",
    "In difference equations, following holds:\n",
    "\n",
    "\\begin{equation*}\n",
    "y(n) = y_h(n) + y_p(n)\n",
    "\\end{equation*}\n",
    "\n",
    "Therefore I can easily obtain solution:\n",
    "\n",
    "\\begin{equation*}\n",
    "y(n) = y_h(n) + y_p(n) = c \\cdot (-0.3)^n + 5, \\; c\\in \\mathbb{R}, n \\in \\mathbb{N}\n",
    "\\end{equation*}\n",
    "\n",
    "Stability of equilibrium:\n",
    "\n",
    "In this case it is pretty obvious that solution is oscillatory but damped (unless c = 0).\n",
    "\n",
    "## b)\n",
    "\n",
    "\\begin{equation*}\n",
    "2y_{n+2} -6y_{n+1} + 5y_n = 1\n",
    "\\end{equation*}\n",
    "\n",
    "First, I divide the equation by 2 so that coefficient by $y_{n+2}$ is equal to one.\n",
    "\n",
    "\\begin{equation*}\n",
    "y_{n+2} -3y_{n+1} + 2.5y_n = 0.5\n",
    "\\end{equation*}\n",
    "\n",
    "I will start by deriving solution for homogeneous equation. Characteristic polynomial for homogeneous equation:\n",
    "\n",
    "\\begin{equation*}\n",
    "\\lambda^2-3\\lambda+2.5=0\n",
    "\\end{equation*}\n",
    "\n",
    "I use discriminant to derive solutions for homogeneous equation:\n",
    "\n",
    "\\begin{equation*}\n",
    "D=(-3)^2-4\\cdot 2.5 = -1 \\; \\rightarrow \\; \\lambda_{1,2}=\\frac{3\\pm \\sqrt{-1}}{2}\n",
    "\\end{equation*}\n",
    "\n",
    "Solution of this equation with positive imaginary part is $1.5\\cdot(1+\\frac{i}{3})$. In order to derive Fundamental system by applying Theorem about fundamental system, I need to solve following:\n",
    "\n",
    "\\begin{equation*}\n",
    "1.5\\cdot(1+\\frac{i}{3})=\\mu (cos\\nu + isin\\nu) \\rightarrow 3sin\\nu=cos\\nu\n",
    "\\end{equation*}\n",
    "\n",
    "$\\nu \\in [0,2\\pi), \\; \\mu \\in \\mathbb{R}$. But both $sin\\nu$ and $cos\\nu$ need to be positive (Theorem about FS), which restrict $\\nu$ to $[0,\\frac{\\pi}{2})$. From $3sin\\nu=cos\\nu$ I can compute $\\nu$:\n",
    "\n",
    "\\begin{equation*}\n",
    "tan\\nu= \\frac{1}{3} \\rightarrow \\nu \\approx 0.32175\n",
    "\\end{equation*}\n",
    "\n",
    "Now value of $\\mu$ can be easily extracted by pluging back value of $\\nu$:\n",
    "\n",
    "\\begin{equation*}\n",
    "\\mu =  \\frac{1.5}{cos\\nu} \\approx = 1.58114\n",
    "\\end{equation*}\n",
    "\n",
    "In order to make my solution as little confusing as possible, I will refer to $\\mu$ and $\\nu$ by their symbols instead of their approximated values. By applying Theorem about fundamental system I get that: \n",
    "\n",
    "\\begin{equation*}\n",
    "FS=\\{ \\mu^n \\cdot cos(\\nu n),\\mu^n \\cdot sin(\\nu n) \\}\n",
    "\\end{equation*}\n",
    "\n",
    "Therefore solution for homogeneous equation\n",
    "\n",
    "\\begin{equation*}\n",
    "y_h(n)=a\\cdot \\mu^n \\cdot cos(\\nu n) + b \\cdot \\mu^n \\cdot sin(\\nu n), \\; a,b \\in \\mathbb{R}\n",
    "\\end{equation*}\n",
    "\n",
    "Now I will continue by deriving particular solution of this equation. From Theorem about particular solution can be seen that desired particular solution is equal to real constant.\n",
    "\n",
    "\\begin{equation*}\n",
    "y_p(n)=d, \\; d \\in \\mathbb{R}\n",
    "\\end{equation*}\n",
    "\n",
    "I will plug particular solution into original equation divided by two to derive value of $d$:\n",
    "\n",
    "\\begin{equation*}\n",
    "y_{n+2} - 3y_{n+1} + 2.5y_n = d - 3d + 2.5d = 0.5d = 0.5 \\rightarrow d = 1 \\rightarrow y_p(n)=1\n",
    "\\end{equation*}\n",
    "\n",
    "In difference equations, following holds:\n",
    "\n",
    "\\begin{equation*}\n",
    "y(n) = y_h(n) + y_p(n)\n",
    "\\end{equation*}\n",
    "\n",
    "Therefore I can easily obtain solution:\n",
    "\n",
    "\\begin{equation*}\n",
    "y(n) = y_h(n) + y_p(n) = a\\cdot \\mu^n \\cdot cos(\\nu n) + b \\cdot \\mu^n \\cdot sin(\\nu n) + 1 \n",
    "\\end{equation*}\n",
    "\n",
    "where\n",
    "\n",
    "\\begin{equation*}\n",
    "a,b \\in \\mathbb{R}, \\; \\nu = arctg\\Big(\\frac{1}{3}\\Big) \\approx 0.32175,\\; \\mu = \\frac{3}{2\\cdot cos\\Big(arct\\Big(\\frac{1}{3}\\Big)\\Big)} \\approx 1.58114\n",
    "\\end{equation*}\n",
    "\n",
    "Stability of equilibrium:\n",
    "\n",
    "If both a and b are equal to zero, solution is constant.\n",
    "\n",
    "If one of the coefficients is equal to zero and the other is nonzero: Values for both sine and cosine are restricted to interval $[-1,1]$ and $\\mu$ is strictly larger than one. Thus in this case, solution will be oscillatory and explosive.\n",
    "\n",
    "If both a and b are nonzero: With $\\mu$ being strictly larger than zero and both sine and cosine being restricted to $[-1,1]$, solution will be oscillatory and explosive.\n"
   ]
  },
  {
   "cell_type": "code",
   "execution_count": null,
   "metadata": {},
   "outputs": [],
   "source": [
    "# Necessary stuff\n",
    "import inspect \n",
    "import pandas as pd\n",
    "import sympy as sp\n",
    "import numpy as np\n",
    "\n",
    "import matplotlib.pyplot as plt\n",
    "import math \n",
    "\n",
    "sp.init_printing()"
   ]
  },
  {
   "cell_type": "markdown",
   "metadata": {},
   "source": [
    "# Problem 2 - Cobbweb model\n",
    "\n",
    "My surname is \"Suchánek\". Therefore according to the table, a = 4; b = 1; c = 4; d = 0.4.\n",
    "My personalized equation:\n"
   ]
  },
  {
   "cell_type": "code",
   "execution_count": 32,
   "metadata": {},
   "outputs": [],
   "source": [
    "Qd = sp.Symbol('Q_d')                # quantity demanded\n",
    "Qs = sp.Symbol('Q_s')                # quantity supplied \n",
    "t = sp.Symbol('t', integer = True)   # time\n",
    "p = sp.Symbol('p')                   # price\n",
    "a = sp.Symbol('a')                   # quantity demanded at zero price\n",
    "b = sp.Symbol('b')                   # price sensitivity of demand (D slope)\n",
    "c = sp.Symbol('c')                   # quantity supplied at zero price\n",
    "d = sp.Symbol('d')                   # price sensitivity of supply (S slope)\n"
   ]
  },
  {
   "cell_type": "code",
   "execution_count": 33,
   "metadata": {},
   "outputs": [
    {
     "ename": "TypeError",
     "evalue": "'Symbol' object is not callable",
     "output_type": "error",
     "traceback": [
      "\u001b[1;31m---------------------------------------------------------------------------\u001b[0m",
      "\u001b[1;31mTypeError\u001b[0m                                 Traceback (most recent call last)",
      "\u001b[1;32m<ipython-input-33-38749edc5f3e>\u001b[0m in \u001b[0;36m<module>\u001b[1;34m\u001b[0m\n\u001b[1;32m----> 1\u001b[1;33m \u001b[0mdemand\u001b[0m \u001b[1;33m=\u001b[0m \u001b[0msp\u001b[0m\u001b[1;33m.\u001b[0m\u001b[0mEq\u001b[0m\u001b[1;33m(\u001b[0m\u001b[0mQd\u001b[0m\u001b[1;33m,\u001b[0m \u001b[0ma\u001b[0m \u001b[1;33m-\u001b[0m \u001b[0mb\u001b[0m\u001b[1;33m*\u001b[0m\u001b[0mp\u001b[0m\u001b[1;33m(\u001b[0m\u001b[0mt\u001b[0m\u001b[1;33m)\u001b[0m\u001b[1;33m)\u001b[0m\u001b[1;33m\u001b[0m\u001b[1;33m\u001b[0m\u001b[0m\n\u001b[0m\u001b[0;32m      2\u001b[0m \u001b[0msupply\u001b[0m \u001b[1;33m=\u001b[0m \u001b[0msp\u001b[0m\u001b[1;33m.\u001b[0m\u001b[0mEq\u001b[0m\u001b[1;33m(\u001b[0m\u001b[0mQs\u001b[0m\u001b[1;33m,\u001b[0m \u001b[0mc\u001b[0m \u001b[1;33m+\u001b[0m \u001b[0md\u001b[0m\u001b[1;33m*\u001b[0m\u001b[0mp\u001b[0m\u001b[1;33m(\u001b[0m\u001b[0mt\u001b[0m\u001b[1;33m-\u001b[0m\u001b[1;36m1\u001b[0m\u001b[1;33m)\u001b[0m\u001b[1;33m)\u001b[0m\u001b[1;33m\u001b[0m\u001b[1;33m\u001b[0m\u001b[0m\n\u001b[0;32m      3\u001b[0m \u001b[0mdisplay\u001b[0m\u001b[1;33m(\u001b[0m\u001b[0mdemand\u001b[0m\u001b[1;33m,\u001b[0m \u001b[0msupply\u001b[0m\u001b[1;33m)\u001b[0m\u001b[1;33m\u001b[0m\u001b[1;33m\u001b[0m\u001b[0m\n",
      "\u001b[1;31mTypeError\u001b[0m: 'Symbol' object is not callable"
     ]
    }
   ],
   "source": [
    "demand = sp.Eq(Qd, a - b*p(t))\n",
    "supply = sp.Eq(Qs, c + d*p(t-1))\n",
    "display(demand, supply)"
   ]
  },
  {
   "cell_type": "code",
   "execution_count": 22,
   "metadata": {},
   "outputs": [
    {
     "data": {
      "image/png": "[encoded data removed]",
      "text/latex": [
       "$\\displaystyle y{\\left(t + 1 \\right)} = - 0.4 y{\\left(t \\right)}$"
      ],
      "text/plain": [
       "y(t + 1) = -0.4⋅y(t)"
      ]
     },
     "metadata": {},
     "output_type": "display_data"
    },
    {
     "data": {
      "image/png": "[encoded data removed]",
      "text/latex": [
       "$\\displaystyle \\left(-0.4\\right)^{t} C_{0}$"
      ],
      "text/plain": [
       "    t   \n",
       "-0.4 ⋅C₀"
      ]
     },
     "metadata": {},
     "output_type": "display_data"
    }
   ],
   "source": [
    "t = sp.Symbol('t', integer = True)\n",
    "y = sp.Function('y')\n",
    "equation = sp.Eq(y(t+1), -4/10*y(t)) #my personalized equation\n",
    "solution = sp.rsolve(equation, y(t)) #solution of the equation\n",
    "display(equation, solution)"
   ]
  },
  {
   "cell_type": "code",
   "execution_count": 23,
   "metadata": {},
   "outputs": [],
   "source": [
    "# the gift\n",
    "def path(fun, start, iter):\n",
    "    x = np.zeros(2*iter+1)\n",
    "    y = np.zeros(2*iter+1)\n",
    "    x[0] = start\n",
    "    y[0] = 0\n",
    "    i = 1\n",
    "    while i < 2*iter:\n",
    "        x[i] = x[i-1]\n",
    "        y[i] = fun(x[i])\n",
    "        x[i+1] = y[i]\n",
    "        y[i+1] = y[i]\n",
    "        i += 2\n",
    "    u = np.zeros(len(x)-1)\n",
    "    v = np.zeros(len(y)-1)\n",
    "    for i in range(len(x)-1):\n",
    "        u[i] = x[i+1] - x[i]\n",
    "        v[i] = y[i+1] - y[i]\n",
    "    return(x, y, u, v)"
   ]
  },
  {
   "cell_type": "code",
   "execution_count": 26,
   "metadata": {},
   "outputs": [
    {
     "data": {
      "image/png": "[encoded data removed]",
      "text/latex": [
       "$\\displaystyle y{\\left(t + 1 \\right)} = - 0.4 y{\\left(t \\right)}$"
      ],
      "text/plain": [
       "y(t + 1) = -0.4⋅y(t)"
      ]
     },
     "metadata": {},
     "output_type": "display_data"
    },
    {
     "data": {
      "text/plain": [
       "(['def _lambdifygenerated(_Dummy_218):\\n', '    return (-0.4*_Dummy_218)\\n'],\n",
       " 0)"
      ]
     },
     "metadata": {},
     "output_type": "display_data"
    }
   ],
   "source": [
    "# prepare a python function\n",
    "recF = sp.lambdify(y(t), equation.rhs, \"numpy\")\n",
    "display(\n",
    "    equation,\n",
    "    inspect.findsource(recF)\n",
    "    )"
   ]
  },
  {
   "cell_type": "code",
   "execution_count": 29,
   "metadata": {},
   "outputs": [
    {
     "data": {
      "text/plain": [
       "<matplotlib.quiver.Quiver at 0x226d9cc4788>"
      ]
     },
     "execution_count": 29,
     "metadata": {},
     "output_type": "execute_result"
    },
    {
     "data": {
      "image/png": "[encoded data removed]",
      "text/plain": [
       "<Figure size 1080x1080 with 1 Axes>"
      ]
     },
     "metadata": {
      "needs_background": "light"
     },
     "output_type": "display_data"
    }
   ],
   "source": [
    "tval = np.linspace(-5, 5, 50)\n",
    "x, y, u, v = path(recF, 1.1, 5)\n",
    "\n",
    "plt.figure(figsize=(15,15))\n",
    "plt.plot(tval, recF(tval))\n",
    "plt.plot(tval, tval, color = 'orange')\n",
    "plt.vlines(0, -5, 5, color = 'black')\n",
    "plt.hlines(0, -5, 5, color = 'black')\n",
    "plt.quiver(x[:-1],y[:-1], u, v,  angles='xy', scale_units='xy', scale=1, width = 0.002, color = 'red')"
   ]
  }
 ],
 "metadata": {
  "kernelspec": {
   "display_name": "Python 3",
   "language": "python",
   "name": "python3"
  },
  "language_info": {
   "codemirror_mode": {
    "name": "ipython",
    "version": 3
   },
   "file_extension": ".py",
   "mimetype": "text/x-python",
   "name": "python",
   "nbconvert_exporter": "python",
   "pygments_lexer": "ipython3",
   "version": "3.7.4"
  }
 },
 "nbformat": 4,
 "nbformat_minor": 2
}
