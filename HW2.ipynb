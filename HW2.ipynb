{
 "cells": [
  {
   "cell_type": "markdown",
   "metadata": {},
   "source": [
    "<font size=6><b>Home assignment2 - Difference equations</b></font><br/>\n",
    "<font size=5>October 2020</b><br/>\n",
    "<font size=3>Barbora Jakubová<br/>\n"
   ]
  },
  {
   "cell_type": "markdown",
   "metadata": {},
   "source": [
    "\n",
    "# Problem 1\n",
    "\n",
    "Find complete solution (without any software) of these difference equations and discuss stability of equilibrium:"
   ]
  },
  {
   "cell_type": "markdown",
   "metadata": {},
   "source": [
    "<font color=blue><b>1) $2y_{n+1}+0.6y_n=13$</b></font>\n",
    "\n",
    "Homogenous equation: $2y_{n+1}+0.6y_n=0$\n",
    "   \n",
    "Fundamental system: \n",
    "\n",
    "$2\\lambda + 0.6 = 0$ $\\Rightarrow$ $ \\lambda=-0.3$ $\\Rightarrow$ FS:$\\{(-0.3)^n\\}$\n",
    "\n",
    "Homogenous solution: $y_h= C\\cdot (-0.3)^n$, $n\\in \\mathbb{N}, C \\in\\mathbb{R} $\n",
    "\n",
    "Particular solution:\n",
    "\n",
    "$13=A$ $\\Rightarrow$ $2A+0.6A=13$ $\\Rightarrow$ $2.6A=13$ $\\Rightarrow$ $A=\\frac{130}{26}=\\frac{65}{13}=5$\n",
    "\n",
    "<font color=blue><b>Solution:</b></font> $y_n=C\\cdot (-0.3)^n + \\frac{65}{13}$, $n\\in \\mathbb{N}, C \\in\\mathbb{R}$\n",
    "\n",
    "Verification: \n",
    "\n",
    "LHS: $$2y_{n+1}+0.6y_n=\n",
    "2 \\cdot (C \\cdot (-0.3)^{n+1} + \\frac{65}{13})+0.6\\cdot C\\cdot (-0.3)^n + \\frac{65}{13} =$$\n",
    "\n",
    "$$=2\\cdot C (-0.3)^n \\cdot (-0.3) + 2\\cdot \\frac{65}{13} + 0.6\\cdot C (-0.3)^n + 0.6\\cdot \\frac{65}{13}=$$\n",
    "\n",
    "$$=\\frac{130}{13}+\\frac{6}{10}\\cdot\\frac{65}{13} = 10+3=13$$\n",
    "\n",
    "RHS: 13  $\\Rightarrow$ LHS=RHS\n",
    "\n",
    "<font color=blue><b>Stability of equilibrium:</b></font> Root: $a=(-0.3)$ $\\Rightarrow |a|<1$ which means that the equilibrium is **attractor** and the solution converges to 0. Moreover, $a<0$ which means **oscillatory behavour**."
   ]
  },
  {
   "cell_type": "markdown",
   "metadata": {},
   "source": [
    "<font color=blue><b>2) $2y_{n+2}-6y_{n+1}+5y_n=1$</b></font>\n",
    "\n",
    "Fundamental system: \n",
    "\n",
    "$2\\lambda^2 - 6\\lambda + 5 = 0$ $\\Rightarrow$ $ \\lambda_{1,2}=\\frac{6 \\pm \\sqrt{(36-40)}}{4}=\\frac{6\\pm \\sqrt{-4}}{4}=\\frac{6\\pm 2i}{4}=\\frac{3\\pm i}{2}$\n",
    "\n",
    "Since characteristical polynom has complex conjugate root, from our cook book we can rewrite\n",
    "$\\lambda_{1,2}=\\alpha \\pm \\beta \\cdot i$ to our case: $ \\lambda_{1,2}=\\frac{3\\pm i}{2}$.\n",
    "\n",
    "$\\Rightarrow \\alpha=\\frac{3}{2}$ and $\\beta=\\frac{1}{2}$\n",
    "\n",
    "Then, goniometric representation will look as follows: \n",
    "$$(\\alpha \\pm \\beta i)^t=R^t(cos (\\theta t) \\pm sin(\\theta t)), $$ where\n",
    "    $R=\\sqrt{\\alpha^2+\\beta^2}=\\sqrt{\\frac{9}{4}+\\frac{1}{4}}=\\sqrt{\\frac{10}{4}}=\\frac{\\sqrt{10}}{2}$ \n",
    "    \n",
    "and $tan(\\theta)=\\frac{\\beta}{\\alpha}=\\frac{\\frac{1}{2}}{\\frac{3}{2}}=\\frac{1}{3}=tan(\\theta)$ $\\Rightarrow$ $\\theta = arctg(\\frac{1}{3}) \\sim 18.4° \\sim 0.102 \\pi$\n",
    "\n",
    "Note: I calculated approximate values, but I will use the arctg() form since I think it looks better. \n",
    "\n",
    "Homogenous solution: $y_h=C_1 \\cdot \\Big(\\frac{\\sqrt {10}}{2}\\Big)^n\\cdot cos(arctg(\\frac{1}{3})+ C_2\\cdot \\Big(\\frac{\\sqrt {10}}{2}\\Big)^n\\cdot sin (arctg(\\frac{1}{3})$, $n\\in \\mathbb{N}, C_1,C_2\\in\\mathbb{R} $\n",
    "\n",
    "\n",
    "\n",
    "Particular solution:\n",
    "\n",
    "$1=A$ $\\Rightarrow$ $2A-6A+5A=1$ $\\Rightarrow$ $A=1$ \n",
    "\n",
    "<font color=blue><b>Solution:</b></font> $y_n=C_1 \\cdot \\Big(\\frac{\\sqrt {10}}{2}\\Big)^n\\cdot cos(arctg(\\frac{1}{3}))+ C_2\\cdot \\Big(\\frac{\\sqrt {10}}{2}\\Big)^n\\cdot sin (arctg(\\frac{1}{3}))+1$, $n\\in \\mathbb{N}, C_1,C_2 \\in\\mathbb{R} $\n",
    "\n",
    "\n",
    "<font color=blue><b>Stability of equilibrium:</b></font> \n"
   ]
  },
  {
   "cell_type": "markdown",
   "metadata": {},
   "source": [
    "---\n",
    "# Problem1 : Mathematically\n",
    "\n",
    "---"
   ]
  },
  {
   "cell_type": "code",
   "execution_count": 3,
   "metadata": {},
   "outputs": [],
   "source": [
    "from __future__ import print_function\n",
    "import inspect\n",
    "import pandas as pd\n",
    "import sympy as sp\n",
    "import numpy as numpy\n",
    "\n",
    "import matplotlib.pyplot as plt\n",
    "import math \n",
    "\n",
    "sp.init_printing()"
   ]
  },
  {
   "cell_type": "code",
   "execution_count": 16,
   "metadata": {},
   "outputs": [
    {
     "data": {
      "image/png": "[encoded data removed]",
      "text/latex": [
       "$\\displaystyle C_{0} \\left(\\frac{3}{2} - \\frac{i}{2}\\right)^{t} + C_{1} \\left(\\frac{3}{2} + \\frac{i}{2}\\right)^{t} + 1$"
      ],
      "text/plain": [
       "          t             t    \n",
       "   ⎛3   ⅈ⎞       ⎛3   ⅈ⎞     \n",
       "C₀⋅⎜─ - ─⎟  + C₁⋅⎜─ + ─⎟  + 1\n",
       "   ⎝2   2⎠       ⎝2   2⎠     "
      ]
     },
     "execution_count": 16,
     "metadata": {},
     "output_type": "execute_result"
    }
   ],
   "source": [
    "t = sp.Symbol('t', integer = True)\n",
    "c = sp.Symbol('c', integer = True)\n",
    "y = sp.Function('y')\n",
    "p=sp.Symbol(\"p\")\n",
    "yeq = sp.Eq(2*y(t+2) - 6*y(t+1) + 5*y(t), 1)\n",
    "yeq\n",
    "\n",
    "sp.rsolve(yeq, (y(t)))\n",
    "q=sp.Eq(2* p**2-6*p+5, 0)\n",
    "sp.solve(q,p)\n",
    "sp.rsolve(yeq,y(t))\n",
    "\n",
    "#2*(c*(10**(1/2)/2)**(t+2)*math.cos(numpy.arctan((1/3)*(t+2))))-6*(c*(10**(1/2)/2)**(t+1)*math.cos(numpy.arctan((1/3)*(t+1))))+5**(c*(10**(1/2)/2)**(t)*math.cos(numpy.arctan((1/3)*(t))))"
   ]
  },
  {
   "cell_type": "markdown",
   "metadata": {},
   "source": [
    "# Problem2 : Cobbweb model"
   ]
  },
  {
   "cell_type": "code",
   "execution_count": 17,
   "metadata": {},
   "outputs": [
    {
     "data": {
      "image/png": "[encoded data removed]",
      "text/latex": [
       "$\\displaystyle y{\\left(t + 1 \\right)} = 7.5 - 0.75 y{\\left(t \\right)}$"
      ],
      "text/plain": [
       "y(t + 1) = 7.5 - 0.75⋅y(t)"
      ]
     },
     "execution_count": 17,
     "metadata": {},
     "output_type": "execute_result"
    }
   ],
   "source": [
    "t = sp.Symbol('t', integer = True)\n",
    "y = sp.Function('y')\n",
    "cobb = sp.Eq(y(t+1), 3/0.4 - 3/4*y(t)) \n",
    "cobb"
   ]
  },
  {
   "cell_type": "code",
   "execution_count": 18,
   "metadata": {},
   "outputs": [],
   "source": [
    "# the gift\n",
    "def path(fun, start, iter): \n",
    "    x = numpy.zeros(2*iter+1)  #two points (two iterations)\n",
    "    y = numpy.zeros(2*iter+1)\n",
    "    x[0] = start\n",
    "    y[0] = 0\n",
    "    i = 1\n",
    "    while i < 2*iter:\n",
    "        x[i] = x[i-1]\n",
    "        y[i] = fun(x[i])\n",
    "        x[i+1] = y[i]\n",
    "        y[i+1] = y[i]\n",
    "        i += 2\n",
    "    u = numpy.zeros(len(x)-1)\n",
    "    v = numpy.zeros(len(y)-1)\n",
    "    for i in range(len(x)-1):\n",
    "        u[i] = x[i+1] - x[i]\n",
    "        v[i] = y[i+1] - y[i]\n",
    "    return(x, y, u, v)\n"
   ]
  },
  {
   "cell_type": "code",
   "execution_count": 19,
   "metadata": {},
   "outputs": [
    {
     "data": {
      "image/png": "[encoded data removed]",
      "text/latex": [
       "$\\displaystyle y{\\left(t + 1 \\right)} = 7.5 - 0.75 y{\\left(t \\right)}$"
      ],
      "text/plain": [
       "y(t + 1) = 7.5 - 0.75⋅y(t)"
      ]
     },
     "metadata": {},
     "output_type": "display_data"
    },
    {
     "data": {
      "text/plain": [
       "(['def _lambdifygenerated(_Dummy_263):\\n',\n",
       "  '    return (7.5 - 0.75*_Dummy_263)\\n'],\n",
       " 0)"
      ]
     },
     "metadata": {},
     "output_type": "display_data"
    }
   ],
   "source": [
    "# prepare a python function\n",
    "recF = sp.lambdify(y(t), cobb.rhs, \"numpy\")\n",
    "display(\n",
    "    cobb,\n",
    "    inspect.findsource(recF)\n",
    "    )"
   ]
  },
  {
   "cell_type": "code",
   "execution_count": 20,
   "metadata": {},
   "outputs": [
    {
     "data": {
      "text/plain": [
       "<matplotlib.quiver.Quiver at 0x2144a3c31c8>"
      ]
     },
     "execution_count": 20,
     "metadata": {},
     "output_type": "execute_result"
    },
    {
     "data": {
      "image/png": "[encoded data removed]",
      "text/plain": [
       "<Figure size 720x720 with 1 Axes>"
      ]
     },
     "metadata": {
      "needs_background": "light"
     },
     "output_type": "display_data"
    }
   ],
   "source": [
    "tval = numpy.linspace(-1, 15, 5)\n",
    "x, y, u, v = path(recF, 6, 16)\n",
    "\n",
    "plt.figure(figsize=(10,10))\n",
    "plt.plot(tval, recF(tval),color=\"purple\",label=\"p(t)\")\n",
    "plt.plot(tval, tval, color = 'orange')\n",
    "plt.vlines(0, -1, 15, color = 'black')\n",
    "plt.hlines(0, -1, 15, color = 'black')\n",
    "plt.legend()\n",
    "plt.title(\"Phase diagram of Cobbweb model\")\n",
    "plt.quiver(x[:-1],y[:-1], u, v,  angles='xy', scale_units='xy', scale=1, width = 0.002, color = 'red')"
   ]
  },
  {
   "cell_type": "code",
   "execution_count": 21,
   "metadata": {},
   "outputs": [],
   "source": [
    "Qd = sp.Symbol('Q_d')                # quantity demanded\n",
    "Qs = sp.Symbol('Q_s')                # quantity supplied \n",
    "t = sp.Symbol('t', integer = True)   # time\n",
    "p = sp.Function('p')                   # price\n",
    "a = sp.Symbol('a')                   # quantity demanded at zero price\n",
    "b = sp.Symbol('b')                   # price sensitivity of demand (D slope)\n",
    "c = sp.Symbol('c')                   # quantity supplied at zero price\n",
    "d = sp.Symbol('d')                   # price sensitivity of supply (S slope)"
   ]
  },
  {
   "cell_type": "code",
   "execution_count": 22,
   "metadata": {},
   "outputs": [
    {
     "data": {
      "image/png": "[encoded data removed]",
      "text/latex": [
       "$\\displaystyle Q_{d} = a - b p{\\left(t \\right)}$"
      ],
      "text/plain": [
       "Q_d = a - b⋅p(t)"
      ]
     },
     "metadata": {},
     "output_type": "display_data"
    },
    {
     "data": {
      "image/png": "[encoded data removed]",
      "text/latex": [
       "$\\displaystyle Q_{s} = c + d p{\\left(t - 1 \\right)}$"
      ],
      "text/plain": [
       "Qₛ = c + d⋅p(t - 1)"
      ]
     },
     "metadata": {},
     "output_type": "display_data"
    }
   ],
   "source": [
    "demand = sp.Eq(Qd, a - b*p(t))\n",
    "supply = sp.Eq(Qs, c + d*p(t-1))\n",
    "display(demand, supply)"
   ]
  },
  {
   "cell_type": "code",
   "execution_count": 23,
   "metadata": {},
   "outputs": [
    {
     "data": {
      "image/png": "[encoded data removed]",
      "text/latex": [
       "$\\displaystyle Q_{d} = 5 - 0.4 p{\\left(t \\right)}$"
      ],
      "text/plain": [
       "Q_d = 5 - 0.4⋅p(t)"
      ]
     },
     "metadata": {},
     "output_type": "display_data"
    },
    {
     "data": {
      "image/png": "[encoded data removed]",
      "text/latex": [
       "$\\displaystyle Q_{s} = 0.3 p{\\left(t - 1 \\right)} + 2$"
      ],
      "text/plain": [
       "Qₛ = 0.3⋅p(t - 1) + 2"
      ]
     },
     "metadata": {},
     "output_type": "display_data"
    }
   ],
   "source": [
    "a=5\n",
    "b=0.4\n",
    "c=2\n",
    "d=0.3\n",
    "demand = sp.Eq(Qd, a - b*p(t))\n",
    "supply = sp.Eq(Qs, c + d*p(t-1))\n",
    "cobb=sp.Eq(a - b*p(t), c + d*p(t-1))\n",
    "display(demand, supply)"
   ]
  },
  {
   "cell_type": "code",
   "execution_count": 24,
   "metadata": {
    "scrolled": true
   },
   "outputs": [
    {
     "data": {
      "image/png": "[encoded data removed]",
      "text/latex": [
       "$\\displaystyle \\left(-0.75\\right)^{t} C_{0} + 4.28571428571429$"
      ],
      "text/plain": [
       "     t                      \n",
       "-0.75 ⋅C₀ + 4.28571428571429"
      ]
     },
     "execution_count": 24,
     "metadata": {},
     "output_type": "execute_result"
    }
   ],
   "source": [
    "sp.rsolve(cobb,p(t))"
   ]
  },
  {
   "cell_type": "markdown",
   "metadata": {},
   "source": [
    "# Solow model"
   ]
  },
  {
   "cell_type": "code",
   "execution_count": 25,
   "metadata": {},
   "outputs": [],
   "source": [
    "import sympy as sp\n",
    "\n",
    "kt = sp.Function('k') \n",
    "k=sp.Symbol(\"k\") # quantity demanded\n",
    "s = sp.Symbol('s')                # quantity supplied \n",
    "t = sp.Symbol('t', integer = True)   # time\n",
    "a=sp.Symbol(\"a\")\n",
    "A=sp.Symbol(\"A\") # price\n",
    "n = sp.Symbol('n')                   # quantity demanded at zero price\n",
    "d = sp.Symbol('d')                   # price sensitivity of demand (D slope)\n",
    "                  # price sensitivity of supply (S slope)"
   ]
  },
  {
   "cell_type": "code",
   "execution_count": 26,
   "metadata": {},
   "outputs": [
    {
     "data": {
      "image/png": "[encoded data removed]",
      "text/latex": [
       "$\\displaystyle \\frac{d}{d t} k{\\left(t \\right)} = A s k^{a}{\\left(t \\right)} - \\left(d + n\\right) k{\\left(t \\right)}$"
      ],
      "text/plain": [
       "d               a                  \n",
       "──(k(t)) = A⋅s⋅k (t) - (d + n)⋅k(t)\n",
       "dt                                 "
      ]
     },
     "metadata": {},
     "output_type": "display_data"
    },
    {
     "data": {
      "image/png": "[encoded data removed]",
      "text/latex": [
       "$\\displaystyle \\left[ \\left(\\frac{A s}{d + n}\\right)^{- \\frac{1}{a - 1}}\\right]$"
      ],
      "text/plain": [
       "⎡        -1  ⎤\n",
       "⎢       ─────⎥\n",
       "⎢       a - 1⎥\n",
       "⎢⎛ A⋅s ⎞     ⎥\n",
       "⎢⎜─────⎟     ⎥\n",
       "⎣⎝d + n⎠     ⎦"
      ]
     },
     "metadata": {},
     "output_type": "display_data"
    }
   ],
   "source": [
    "solow = sp.Eq(kt(t).diff(), s*A*kt(t)**a - (n+d)*kt(t))\n",
    "display(solow)\n",
    "steady= sp.Eq(0, s*A*kt(t)**a - (n+d)*kt(t))\n",
    "display(sp.solve(steady,kt(t)))"
   ]
  },
  {
   "cell_type": "code",
   "execution_count": 27,
   "metadata": {},
   "outputs": [
    {
     "data": {
      "image/png": "[encoded data removed]",
      "text/latex": [
       "$\\displaystyle \\frac{d}{d t} k{\\left(t \\right)} = 0.3 k^{0.3}{\\left(t \\right)} - 0.35 k{\\left(t \\right)}$"
      ],
      "text/plain": [
       "d               0.3               \n",
       "──(k(t)) = 0.3⋅k   (t) - 0.35⋅k(t)\n",
       "dt                                "
      ]
     },
     "metadata": {},
     "output_type": "display_data"
    },
    {
     "data": {
      "image/png": "[encoded data removed]",
      "text/latex": [
       "$\\displaystyle \\left[ 0.0, \\  0.802346068848214\\right]$"
      ],
      "text/plain": [
       "[0.0, 0.802346068848214]"
      ]
     },
     "metadata": {},
     "output_type": "display_data"
    }
   ],
   "source": [
    "A=3\n",
    "a=0.3\n",
    "s=0.1\n",
    "d=0.25\n",
    "n=0.1\n",
    "solow = sp.Eq(kt(t).diff(), s*A*kt(t)**a - (n+d)*kt(t))\n",
    "steady= sp.Eq(0, s*A*kt(t)**a - (n+d)*kt(t))\n",
    "display(solow)\n",
    "display(sp.solve(steady,kt(t)))"
   ]
  },
  {
   "cell_type": "code",
   "execution_count": 7,
   "metadata": {},
   "outputs": [],
   "source": [
    "from __future__ import print_function\n",
    "import inspect\n",
    "\n",
    "import sympy as sp\n",
    "import numpy as numpy\n",
    "import pandas as pd\n",
    "import matplotlib.pyplot as plt\n",
    "import math \n",
    "import ipywidgets as widgets\n",
    "from ipywidgets import FloatSlider\n",
    "\n",
    "from ipywidgets import interact, interactive, fixed, interact_manual\n",
    "import ipywidgets as widgets\n",
    "\n",
    "sp.init_printing()"
   ]
  },
  {
   "cell_type": "code",
   "execution_count": null,
   "metadata": {},
   "outputs": [],
   "source": [
    "t = sp.Symbol('t', integer = True)\n",
    "k = sp.Function('k')\n",
    "def fs(val, min, max, step):\n",
    "    return FloatSlider(value=val, min=min, max=max, step=step, continuous_update = False)\n",
    "@interact\n",
    "def sinewaves (s=fs(0.1,0,1,0.01),A=fs(3,1,15,0.01), a=fs(0.3,0,1,0.01), n=fs(0.1,0,1,0.01),d=fs(0.25,0,1,0.01)):\n",
    "    rec = sp.Eq(k(t).diff(), s*A*k(t)**a - (n+d)*k(t))\n",
    "    recF = sp.lambdify(k(t), rec.rhs, \"numpy\")\n",
    "    steady= sp.Eq(0, s*A*k(t)**a - (n+d)*k(t))\n",
    "    kstar=numpy.array(sp.solve(steady,k(t)))\n",
    "    a=kstar[1]\n",
    "    print(a)\n",
    "    display(\n",
    "    rec,\n",
    "    #inspect.findsource(recF)\n",
    "    )\n",
    "    tval = numpy.linspace(0,20,2000)\n",
    "    plt.figure(figsize=(5,5))\n",
    "    plt.plot(tval, recF(tval),color=\"purple\",label=\"kdot(t)\")\n",
    "    plt.scatter(kstar[1],0,label=\"k*\")\n",
    "    plt.legend()\n",
    "    plt.vlines(0,-1,2, color = 'black')\n",
    "    plt.hlines(0,-1,kstar[1]+1, color = 'black')\n",
    "    return plt.figure()"
   ]
  }
 ],
 "metadata": {
  "kernelspec": {
   "display_name": "Python 3",
   "language": "python",
   "name": "python3"
  },
  "language_info": {
   "codemirror_mode": {
    "name": "ipython",
    "version": 3
   },
   "file_extension": ".py",
   "mimetype": "text/x-python",
   "name": "python",
   "nbconvert_exporter": "python",
   "pygments_lexer": "ipython3",
   "version": "3.7.4"
  }
 },
 "nbformat": 4,
 "nbformat_minor": 2
}
