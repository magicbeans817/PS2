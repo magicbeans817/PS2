{
 "cells": [
  {
   "cell_type": "markdown",
   "metadata": {},
   "source": [
    "<font size=6><b>Problem Set 2</b></font><br/>\n",
    "<font size=3>Jan Suchánek<br/>"
   ]
  },
  {
   "cell_type": "markdown",
   "metadata": {},
   "source": [
    "# Problem 1\n",
    "\n",
    "Find complete solution (without any software) of these difference equations and discuss stability of equilibrium:\n",
    "\n",
    "## a)\n",
    "\n",
    "\\begin{equation*}\n",
    "2y_{n+1} + 0.6y_n = 13\n",
    "\\end{equation*}\n",
    "\n",
    "First, I divide the equation by 2 so that coefficient by $y_{n+1}$ is equal to one.\n",
    "\n",
    "\\begin{equation*}\n",
    "y_{n+1} + 0.3y_n = 6.5\n",
    "\\end{equation*}\n",
    "\n",
    "I will start by deriving solution for homogeneous equation. Characteristic polynomial for homogeneous equation:\n",
    "\\begin{equation*}\n",
    "\\lambda + 0.3 = 0\n",
    "\\end{equation*}\n",
    "\n",
    "From this is easily derived that $FS=\\{(-0.3)^n\\}$ (Theorem about fundamental system of difference equations), which brings me to solution for homogeneous equation:\n",
    "\\begin{equation*}\n",
    "y_h(n)=c \\cdot (-0.3)^n, \\; c\\in \\mathbb{R}, n \\in \\mathbb{N}\n",
    "\\end{equation*}\n",
    "\n",
    "Now I will continue by deriving particular solution of this equation. From Theorem about particular solution can be seen that desired particular solution is equal to real constant.\n",
    "\\begin{equation*}\n",
    "y_p(n)=d, \\; d \\in \\mathbb{R}\n",
    "\\end{equation*}\n",
    "\n",
    "I will plug particular solution into original equation divided by two to derive value of $d$:\n",
    "\n",
    "\\begin{equation*}\n",
    "y_{n+1} + 0.3y_n = d+0.3d = 1.3d = 6.5 \\rightarrow d = 5 \\rightarrow y_p(n)=5\n",
    "\\end{equation*}\n",
    "\n",
    "In difference equations, following holds:\n",
    "\n",
    "\\begin{equation*}\n",
    "y(n) = y_h(n) + y_p(n)\n",
    "\\end{equation*}\n",
    "\n",
    "Therefore I can easily obtain solution:\n",
    "\n",
    "\\begin{equation*}\n",
    "y(n) = y_h(n) + y_p(n) = c \\cdot (-0.3)^n + 5, \\; c\\in \\mathbb{R}, n \\in \\mathbb{N}\n",
    "\\end{equation*}\n",
    "\n"
   ]
  },
  {
   "cell_type": "markdown",
   "metadata": {},
   "source": [
    "Stability of equilibrium:\n",
    "\n",
    "In this case it is pretty obvious that solution is oscillatory but damped (unless c = 0). Therefore equilibrium ($y^*=5$) is stable.\n",
    "\n"
   ]
  },
  {
   "cell_type": "markdown",
   "metadata": {},
   "source": [
    "## b)\n",
    "\n",
    "\\begin{equation*}\n",
    "2y_{n+2} -6y_{n+1} + 5y_n = 1\n",
    "\\end{equation*}\n",
    "\n",
    "First, I divide the equation by 2 so that coefficient by $y_{n+2}$ is equal to one.\n",
    "\n",
    "\\begin{equation*}\n",
    "y_{n+2} -3y_{n+1} + 2.5y_n = 0.5\n",
    "\\end{equation*}\n",
    "\n",
    "I will start by deriving solution for homogeneous equation. Characteristic polynomial for homogeneous equation:\n",
    "\n",
    "\\begin{equation*}\n",
    "\\lambda^2-3\\lambda+2.5=0\n",
    "\\end{equation*}\n",
    "\n",
    "I use discriminant to derive solutions for homogeneous equation:\n",
    "\n",
    "\\begin{equation*}\n",
    "D=(-3)^2-4\\cdot 2.5 = -1 \\; \\rightarrow \\; \\lambda_{1,2}=\\frac{3\\pm \\sqrt{-1}}{2}\n",
    "\\end{equation*}\n",
    "\n",
    "Solution of this equation with positive imaginary part is $1.5\\cdot(1+\\frac{i}{3})$. In order to derive Fundamental system by applying Theorem about fundamental system, I need to solve following:\n",
    "\n",
    "\\begin{equation*}\n",
    "1.5\\cdot(1+\\frac{i}{3})=\\mu (cos\\nu + isin\\nu) \\rightarrow 3sin\\nu=cos\\nu\n",
    "\\end{equation*}\n",
    "\n",
    "$\\nu \\in [0,2\\pi), \\; \\mu \\in \\mathbb{R}$. But both $sin\\nu$ and $cos\\nu$ need to be positive (Theorem about FS), which restrict $\\nu$ to $[0,\\frac{\\pi}{2})$. From $3sin\\nu=cos\\nu$ I can compute $\\nu$:\n",
    "\n",
    "\\begin{equation*}\n",
    "tan\\nu= \\frac{1}{3} \\rightarrow \\nu \\approx 0.32175\n",
    "\\end{equation*}\n",
    "\n",
    "Now value of $\\mu$ can be easily extracted by pluging back value of $\\nu$:\n",
    "\n",
    "\\begin{equation*}\n",
    "\\mu =  \\frac{1.5}{cos\\nu} \\approx = 1.58114\n",
    "\\end{equation*}\n",
    "\n",
    "In order to make my solution as little confusing as possible, I will refer to $\\mu$ and $\\nu$ by their symbols instead of their approximated values. By applying Theorem about fundamental system I get that: \n",
    "\n",
    "\\begin{equation*}\n",
    "FS=\\{ \\mu^n \\cdot cos(\\nu n),\\mu^n \\cdot sin(\\nu n) \\}\n",
    "\\end{equation*}\n",
    "\n",
    "Therefore solution for homogeneous equation\n",
    "\n",
    "\\begin{equation*}\n",
    "y_h(n)=a\\cdot \\mu^n \\cdot cos(\\nu n) + b \\cdot \\mu^n \\cdot sin(\\nu n), \\; a,b \\in \\mathbb{R}\n",
    "\\end{equation*}\n",
    "\n",
    "Now I will continue by deriving particular solution of this equation. From Theorem about particular solution can be seen that desired particular solution is equal to real constant.\n",
    "\n",
    "\\begin{equation*}\n",
    "y_p(n)=d, \\; d \\in \\mathbb{R}\n",
    "\\end{equation*}\n",
    "\n",
    "I will plug particular solution into original equation divided by two to derive value of $d$:\n",
    "\n",
    "\\begin{equation*}\n",
    "y_{n+2} - 3y_{n+1} + 2.5y_n = d - 3d + 2.5d = 0.5d = 0.5 \\rightarrow d = 1 \\rightarrow y_p(n)=1\n",
    "\\end{equation*}\n",
    "\n",
    "In difference equations, following holds:\n",
    "\n",
    "\\begin{equation*}\n",
    "y(n) = y_h(n) + y_p(n)\n",
    "\\end{equation*}\n",
    "\n",
    "Therefore I can easily obtain solution:\n",
    "\n",
    "\\begin{equation*}\n",
    "y(n) = y_h(n) + y_p(n) = a\\cdot \\mu^n \\cdot cos(\\nu n) + b \\cdot \\mu^n \\cdot sin(\\nu n) + 1 \n",
    "\\end{equation*}\n",
    "\n",
    "where\n",
    "\n",
    "\\begin{equation*}\n",
    "a,b \\in \\mathbb{R}, \\; \\nu = arctg\\Big(\\frac{1}{3}\\Big) \\approx 0.32175,\\; \\mu = \\frac{3}{2\\cdot cos\\Big(arct\\Big(\\frac{1}{3}\\Big)\\Big)} \\approx 1.58114\n",
    "\\end{equation*}\n",
    "\n"
   ]
  },
  {
   "cell_type": "markdown",
   "metadata": {},
   "source": [
    "Stability of equilibrium:\n",
    "\n",
    "If both a and b are equal to zero, solution is constant.\n",
    "\n",
    "If one of the coefficients is equal to zero and the other is nonzero: Values for both sine and cosine are restricted to interval $[-1,1]$ and $\\mu$ is strictly larger than one. Thus in this case, solution will be oscillatory and explosive. Therefore equilibrium will be unstable.\n",
    "\n",
    "If both a and b are nonzero: With $\\mu$ being strictly larger than zero and both sine and cosine being restricted to $[-1,1]$, solution will be oscillatory and explosive. Therefore equilibrium will be unstable.\n"
   ]
  },
  {
   "cell_type": "code",
   "execution_count": 1,
   "metadata": {},
   "outputs": [],
   "source": [
    "# Necessary stuff\n",
    "import inspect \n",
    "import pandas as pd\n",
    "import sympy as sp\n",
    "import numpy as np\n",
    "\n",
    "import matplotlib.pyplot as plt\n",
    "import math \n",
    "\n",
    "sp.init_printing()"
   ]
  },
  {
   "cell_type": "markdown",
   "metadata": {},
   "source": [
    "# Problem 2 - Cobbweb model\n",
    "\n",
    "My surname is \"Suchánek\". Therefore according to the table, a = 4; b = 1; c = 4; d = 0.4.\n",
    "My personalized equation:\n"
   ]
  },
  {
   "cell_type": "code",
   "execution_count": 2,
   "metadata": {},
   "outputs": [
    {
     "data": {
      "image/png": "[encoded data removed]",
      "text/latex": [
       "$\\displaystyle p{\\left(t + 1 \\right)} = - 0.4 p{\\left(t \\right)}$"
      ],
      "text/plain": [
       "p(t + 1) = -0.4⋅p(t)"
      ]
     },
     "metadata": {},
     "output_type": "display_data"
    },
    {
     "data": {
      "image/png": "[encoded data removed]",
      "text/latex": [
       "$\\displaystyle p{\\left(t \\right)} = \\left(-0.4\\right)^{t} C_{0}$"
      ],
      "text/plain": [
       "           t   \n",
       "p(t) = -0.4 ⋅C₀"
      ]
     },
     "metadata": {},
     "output_type": "display_data"
    }
   ],
   "source": [
    "t = sp.Symbol('t', integer = True)   # time\n",
    "y = sp.Function('p')                   # price\n",
    "equ = sp.Eq(y(t+1),-4/10*y(t)) #my personalized equation\n",
    "sol = sp.Eq(y(t), sp.rsolve(equ, y(t))) # solution of my personalized equation\n",
    "display(equ, sol)"
   ]
  },
  {
   "cell_type": "code",
   "execution_count": 3,
   "metadata": {},
   "outputs": [],
   "source": [
    "# the gift\n",
    "def path(fun, start, iter):\n",
    "    x = np.zeros(2*iter+1) #numpy.zeros() - Return a new array of given shape and type, filled with zeros.\n",
    "    y = np.zeros(2*iter+1)\n",
    "    x[0] = start\n",
    "    y[0] = 0\n",
    "    i = 1\n",
    "    while i < 2*iter:\n",
    "        x[i] = x[i-1]\n",
    "        y[i] = fun(x[i])\n",
    "        x[i+1] = y[i]\n",
    "        y[i+1] = y[i]\n",
    "        i += 2\n",
    "    u = np.zeros(len(x)-1)\n",
    "    v = np.zeros(len(y)-1)\n",
    "    for i in range(len(x)-1):\n",
    "        u[i] = x[i+1] - x[i]\n",
    "        v[i] = y[i+1] - y[i]\n",
    "    return(x, y, u, v)"
   ]
  },
  {
   "cell_type": "code",
   "execution_count": 4,
   "metadata": {},
   "outputs": [
    {
     "data": {
      "image/png": "[encoded data removed]",
      "text/latex": [
       "$\\displaystyle p{\\left(t + 1 \\right)} = - 0.4 p{\\left(t \\right)}$"
      ],
      "text/plain": [
       "p(t + 1) = -0.4⋅p(t)"
      ]
     },
     "metadata": {},
     "output_type": "display_data"
    },
    {
     "data": {
      "text/plain": [
       "(['def _lambdifygenerated(_Dummy_191):\\n', '    return (-0.4*_Dummy_191)\\n'],\n",
       " 0)"
      ]
     },
     "metadata": {},
     "output_type": "display_data"
    }
   ],
   "source": [
    "# prepare a python function\n",
    "recF = sp.lambdify(y(t), equ.rhs, \"numpy\")\n",
    "display(\n",
    "    equ,\n",
    "    inspect.findsource(recF)\n",
    "    )"
   ]
  },
  {
   "cell_type": "markdown",
   "metadata": {},
   "source": [
    "## Phase Diagram\n",
    "\n",
    "Hand-written:"
   ]
  },
  {
   "cell_type": "markdown",
   "metadata": {},
   "source": [
    "![alt text](cobb-phase_diagram.jpg \"Title\") #loading pictures"
   ]
  },
  {
   "cell_type": "code",
   "execution_count": 5,
   "metadata": {},
   "outputs": [
    {
     "data": {
      "text/plain": [
       "<matplotlib.quiver.Quiver at 0x2298b7bcec8>"
      ]
     },
     "execution_count": 5,
     "metadata": {},
     "output_type": "execute_result"
    },
    {
     "data": {
      "image/png": "[encoded data removed]",
      "text/plain": [
       "<Figure size 1080x1080 with 1 Axes>"
      ]
     },
     "metadata": {
      "needs_background": "light"
     },
     "output_type": "display_data"
    }
   ],
   "source": [
    "# Python phase diagram\n",
    "tval = np.linspace(-5, 5, 50)\n",
    "x, y, u, v = path(recF, 4, 6)\n",
    "\n",
    "plt.figure(figsize=(15,15))\n",
    "plt.plot(tval, recF(tval))\n",
    "plt.plot(tval, tval, color = 'orange')\n",
    "plt.plot(tval, recF(tval), color=\"blue\")\n",
    "plt.vlines(0, -5, 5, color = 'black')\n",
    "plt.hlines(0, -5, 5, color = 'black')\n",
    "plt.title(\"Phase diagram of Cobbweb model\")\n",
    "plt.quiver(x[:-1],y[:-1], u, v,  angles='xy', scale_units='xy', scale=1, width = 0.002, color = 'red')"
   ]
  },
  {
   "cell_type": "markdown",
   "metadata": {},
   "source": [
    "# Problem 3 - Solow Model\n",
    "\n",
    "Central equation of the Solow model:\n",
    "\n",
    "\\begin{equation*}\n",
    "\\dot{k}(k) = s \\cdot a \\cdot k^{\\alpha} - (n + \\delta) \\cdot k(t)\n",
    "\\end{equation*}\n"
   ]
  },
  {
   "cell_type": "markdown",
   "metadata": {},
   "source": [
    "## a) Calculation of fixed points (equilibria)\n",
    "\n",
    "I know that in equilibrium $\\dot{k}(t)$ must be equal to zero, because in equilibrium, value of $k(t)$ is staying the same. This gives me following equation:\n",
    "\n",
    "\\begin{equation*}\n",
    "0 = s \\cdot a \\cdot k^{\\alpha} - (n + \\delta) \\cdot k\n",
    "\\end{equation*}\n",
    "\n",
    "From this equation equilibrium value of k can be easily extracted:\n",
    "\n",
    "\\begin{equation*}\n",
    "s \\cdot a \\cdot k^{\\alpha} = (n + \\delta) \\cdot k\n",
    "\\end{equation*}\n",
    "\n",
    "\\begin{equation*}\n",
    "k^{\\alpha - 1} = \\frac{n + \\delta}{s \\cdot a}\n",
    "\\end{equation*}\n",
    "\n",
    "\\begin{equation*}\n",
    "k^*= \\Big(\\frac{n + \\delta}{s \\cdot a}\\Big)^{\\frac{1}{\\alpha-1}}\n",
    "\\end{equation*}\n",
    "\n",
    "If we take into account that $a= 3$, $s= 0.1$, $\\delta = 0.25$, $n = 0.1$ and $\\alpha = 0.3$, we get\n",
    "\n",
    "\\begin{equation*}\n",
    "k^*= \\Big(\\frac{0.1 + 0.25}{0.1 \\cdot 3}\\Big)^{\\frac{1}{0.3-1}} \\approx 0.8023\n",
    "\\end{equation*}\n"
   ]
  },
  {
   "cell_type": "markdown",
   "metadata": {},
   "source": [
    "## b) Establish whether equilibria are stable or unstable\n",
    "\n",
    "We get only one equilibrium point. $\\alpha$ is lower than $1$, therefore for small $k$, value of $\\dot{k}$ will be positive ($k$ cannot be lower than zero - it makes sense, as level of capital per capita cannot be negative). Of course, with larger $k$ function $\\dot{k}$ begins to decrease. Eventually, it is equal to zero in equilibrium $k^*$. Then it continues to decrease. For $k < k^*$ is value of $\\dot{k}$ positive, therefore value of $k < k^*$ will grow until it reaches $k^*$. For $k > k^*$ is value of $\\dot{k}$ negative, therefore value of $k > k^*$ will fall until it reaches $k^*$. Therefore equilibrium point is stable.\n",
    "\n",
    "Other way to solve this problem: function $\\dot{k}$ is obviously differentiable. Therefore we can take first derivative with respect to $k$ and see monotonicity of $\\dot{k}$. In equilibrium point, $\\dot{k}$ is equal to zero, around equlibrium point are values of $\\dot{k}$ nonzero. \n",
    "\n",
    "If equilibrium is stable, first derivative will be negative around equilibrium ($\\dot{k}$ will be decreasing - values of k will be attracted to equilibrium). \n",
    "\n",
    "If equilibrium is unstable, first derivative will be positive around equilibrium ($\\dot{k}$ will be increasing - values of k will be repelled from equilibrium).\n",
    "\n",
    "\n",
    "\\begin{equation*}\n",
    "\\frac{\\partial \\dot{k}(k)}{\\partial k}=s \\cdot a \\cdot \\alpha \\cdot k^{\\alpha -1} - (n+\\delta)\n",
    "\\end{equation*}\n",
    "\n",
    "Now I can plug in formula for $k^*$ from part a) of this exercise:\n",
    "\n",
    "\\begin{equation*}\n",
    "\\frac{\\partial \\dot{k}(k)}{\\partial k}=s \\cdot a \\cdot \\alpha \\cdot k^{\\alpha -1} - (n+\\delta) = s \\cdot a \\cdot \\alpha \\cdot \\Big(\\frac{n + \\delta}{s \\cdot a}\\Big)^{\\frac{\\alpha - 1}{\\alpha-1}} - (n+\\delta) = \\alpha \\cdot (n+\\delta) - (n+\\delta) = (n+\\delta) \\cdot (1 - \\alpha) < 0\n",
    "\\end{equation*}\n",
    "\n",
    "because $n + \\delta > 0$ and $\\alpha < 1 \\rightarrow \\alpha - 1 < 0$. Therefore it does not matter what values of parameters are given (as long as they are in line with assumptions of Solow model), equilibrium will be positive."
   ]
  },
  {
   "cell_type": "markdown",
   "metadata": {},
   "source": [
    "## c) Plot"
   ]
  },
  {
   "cell_type": "code",
   "execution_count": 6,
   "metadata": {},
   "outputs": [],
   "source": [
    "import ipywidgets as widgets #load necessary packages\n",
    "from ipywidgets import FloatSlider\n",
    "import sympy.abc as symb\n",
    "import math\n",
    "import numpy as np\n",
    "import matplotlib.pyplot as plt\n",
    "from matplotlib import figure\n",
    "from ipywidgets import interact"
   ]
  },
  {
   "cell_type": "code",
   "execution_count": 7,
   "metadata": {},
   "outputs": [
    {
     "data": {
      "image/png": "[encoded data removed]",
      "text/latex": [
       "$\\displaystyle \\frac{d}{d t} k{\\left(t \\right)} = a s k^{\\alpha}{\\left(t \\right)} - \\left(\\delta + n\\right) k{\\left(t \\right)}$"
      ],
      "text/plain": [
       "d               α                  \n",
       "──(k(t)) = a⋅s⋅k (t) - (δ + n)⋅k(t)\n",
       "dt                                 "
      ]
     },
     "metadata": {},
     "output_type": "display_data"
    }
   ],
   "source": [
    "s = sp.Symbol('s')\n",
    "a = sp.Symbol('a')\n",
    "n = sp.Symbol('n')\n",
    "alpha = symb.alpha\n",
    "delta = symb.delta\n",
    "t = sp.Symbol('t')\n",
    "k = sp.Function('k')(t)\n",
    "equa = sp.Eq(k.diff(), s*a*k**alpha-(n+delta)*k)\n",
    "display(equa)"
   ]
  },
  {
   "cell_type": "code",
   "execution_count": 8,
   "metadata": {},
   "outputs": [
    {
     "data": {
      "image/png": "[encoded data removed]",
      "text/latex": [
       "$\\displaystyle \\frac{d}{d t} k{\\left(t \\right)} = a s k^{\\alpha}{\\left(t \\right)} - \\left(\\delta + n\\right) k{\\left(t \\right)}$"
      ],
      "text/plain": [
       "d               α                  \n",
       "──(k(t)) = a⋅s⋅k (t) - (δ + n)⋅k(t)\n",
       "dt                                 "
      ]
     },
     "metadata": {},
     "output_type": "display_data"
    },
    {
     "data": {
      "text/plain": [
       "(['def _lambdifygenerated(_Dummy_192):\\n',\n",
       "  '    return (_Dummy_192**alpha*a*s - _Dummy_192*(delta + n))\\n'],\n",
       " 0)"
      ]
     },
     "metadata": {},
     "output_type": "display_data"
    }
   ],
   "source": [
    "equation = sp.lambdify(k, equa.rhs, \"numpy\")\n",
    "display(\n",
    "    equa,\n",
    "    inspect.findsource(equation)\n",
    "    )"
   ]
  },
  {
   "cell_type": "code",
   "execution_count": 9,
   "metadata": {},
   "outputs": [
    {
     "data": {
      "application/vnd.jupyter.widget-view+json": {
       "model_id": "ed3d8cda88bd4e4698e142f7eda4c3fe",
       "version_major": 2,
       "version_minor": 0
      },
      "text/plain": [
       "interactive(children=(FloatSlider(value=0.1, description='s', max=1.0, step=0.01), FloatSlider(value=3.0, desc…"
      ]
     },
     "metadata": {},
     "output_type": "display_data"
    }
   ],
   "source": [
    "def fs(val, min, max, step):\n",
    "    return FloatSlider(value=val, min=min, max=max, step=step, continuous_update = True)\n",
    "\n",
    "@interact\n",
    "def muj_graf(s=fs(0.1,0,1,0.01),a=fs(3,0,5,0.01),alpha=fs(0.3,0,1,0.01),n=fs(0.1,0,1,0.01),delta=fs(0.25,0,1,0.01)):\n",
    "    t = sp.Symbol('t')\n",
    "    k = sp.Function('k')(t)\n",
    "    difr = sp.Eq(k.diff(), s*a*k**alpha-(n+delta)*k)\n",
    "    difr2 = sp.lambdify(k, difr.rhs, \"numpy\")\n",
    "    steady_state = sp.Eq(0, difr.rhs)\n",
    "    eq_cap =np.array(sp.solve(steady_state,k))\n",
    "    eq_cap[1]\n",
    "    print(eq_cap[1])\n",
    "    display(difr)\n",
    "    \n",
    "    max = round(eq_cap[1]*2)\n",
    "    t_defined = np.linspace(0, max, 500)\n",
    "    plt.figure(figsize=(5,5))\n",
    "    plt.plot(t_defined, difr2(t_defined),color=\"green\",label=\"k'\")\n",
    "    plt.scatter(eq_cap[1],0,label=\"equilibrium value of k\")\n",
    "    plt.legend()\n",
    "    plt.vlines(0,-1,1, color = 'black')\n",
    "    plt.hlines(0,-1,eq_cap[1]*2, color = 'black')\n",
    "    return plt.figure()"
   ]
  },
  {
   "cell_type": "markdown",
   "metadata": {},
   "source": [
    "# Problem 4\n",
    "\n",
    "My name is Jan Suchánek. However, taht would give me \"strange\" system, therefore I will rename myself for the purpose of this problem and change my first name to \"Bob\". That gives me:\n",
    "\n",
    "$a=-3$\n",
    "\n",
    "$b=3$\n",
    "\n",
    "$c=-1$\n",
    "\n",
    "$d=-2$\n",
    "\n",
    "$e=2$\n",
    "\n",
    "$f=1$\n",
    "\n",
    "That gives me following system:\n",
    "\n",
    "\\begin{equation*}\n",
    "\\dot{x}(t) = -3x(t)+3y(t)+2\n",
    "\\end{equation*}\n",
    "\\begin{equation*}\n",
    "\\dot{y}(t) = -x(t)-2y(t)+1\n",
    "\\end{equation*}\n",
    "\n",
    "In equilibrium, both values of $x(t)$ and $y(t)$ are neither increasing or decreasing, they are staying the same. If they are neither decreasing or increasing, their first derivatives must be equal to zero. Therefore left hand-sides of previous two equations must be equal to zero. That implies \n",
    "\n",
    "\\begin{equation*}\n",
    "\\dot{x}(t) = 0 = -3x(t)+3y(t)+2 \\; \\rightarrow \\dot{x}(t) = 0 \\; \\textrm{when} \\; y = x - \\frac{2}{3}\n",
    "\\end{equation*}\n",
    "\n",
    "\\begin{equation*}\n",
    "\\dot{y}(t) = 0 = -x(t)-2y(t)+1 \\; \\rightarrow \\dot{y}(t) = 0 \\; \\textrm{when} \\; y = \\frac{-x+1}{2}\n",
    "\\end{equation*}\n",
    "\n",
    "Last two formulas describe equilibrium lines. In their intersection lies the equilibrium. I can find the it by solving these two equations.\n",
    "\n",
    "\\begin{equation*}\n",
    "x-\\frac{2}{3}=\\frac{-x+1}{2}\n",
    "\\end{equation*}\n",
    "\n",
    "\\begin{equation*}\n",
    "x = \\frac{7}{9} \\; \\rightarrow y = \\frac{1}{9}\n",
    "\\end{equation*}\n",
    "\n",
    "In addition, we can see how solutions behave outside of equilibrium. For example, $x(t)$ is increasing exactly when $\\dot{x}(t) > 0$ and vice versa (works analogically for y). That gives us following:\n",
    "\n",
    "\\begin{equation*}\n",
    "0 < \\dot{x}(t) = -3x(t)+3y(t)+2 \\; \\rightarrow \\textrm{ x is increasing when } y > x - \\frac{2}{3} \n",
    "\\end{equation*}\n",
    "\n",
    "\\begin{equation*}\n",
    "0 > \\dot{x}(t) = -3x(t)+3y(t)+2 \\; \\rightarrow \\textrm{ x is decreasing when } y < x - \\frac{2}{3} \n",
    "\\end{equation*}\n",
    "\n",
    "\\begin{equation*}\n",
    "0 < \\dot{y}(t) = -x(t)-2y(t)+1 \\; \\rightarrow \\textrm{ y is increasing when } y < \\frac{-x+1}{2}\n",
    "\\end{equation*}\n",
    "\n",
    "\\begin{equation*}\n",
    "0 > \\dot{y}(t) = -x(t)-2y(t)+1 \\; \\rightarrow \\textrm{ y is decreasing when } y > \\frac{-x+1}{2}\n",
    "\\end{equation*}\n",
    "\n",
    "Using all this information, I can provide a poor drawing of phase diagram:\n"
   ]
  },
  {
   "cell_type": "code",
   "execution_count": 17,
   "metadata": {},
   "outputs": [],
   "source": [
    "#![alt text](problem4pd.png \"Title\") #loading pictures"
   ]
  },
  {
   "cell_type": "code",
   "execution_count": 19,
   "metadata": {},
   "outputs": [
    {
     "data": {
      "image/png": "[encoded data removed]",
      "text/latex": [
       "$\\displaystyle \\frac{d}{d t} x{\\left(t \\right)} = - 3 x{\\left(t \\right)} + 3 y{\\left(t \\right)} + 2$"
      ],
      "text/plain": [
       "d                              \n",
       "──(x(t)) = -3⋅x(t) + 3⋅y(t) + 2\n",
       "dt                             "
      ]
     },
     "metadata": {},
     "output_type": "display_data"
    },
    {
     "data": {
      "image/png": "[encoded data removed]",
      "text/latex": [
       "$\\displaystyle \\frac{d}{d t} y{\\left(t \\right)} = - x{\\left(t \\right)} - 2 y{\\left(t \\right)} + 1$"
      ],
      "text/plain": [
       "d                            \n",
       "──(y(t)) = -x(t) - 2⋅y(t) + 1\n",
       "dt                           "
      ]
     },
     "metadata": {},
     "output_type": "display_data"
    }
   ],
   "source": [
    "t = sp.symbols('t', real=True)\n",
    "\n",
    "x = sp.Function('x')(t)\n",
    "y = sp.Function('y')(t)\n",
    "\n",
    "a = sp.symbols('a')\n",
    "b = sp.symbols('b')\n",
    "c = sp.symbols('c')\n",
    "d = sp.symbols('d')\n",
    "e = sp.symbols('e')\n",
    "f = sp.symbols('f')\n",
    "eq1 = sp.Eq(x.diff(t), a*x + b*y + e)\n",
    "eq2 = sp.Eq(y.diff(t), c*x + d*y + f)\n",
    "eq1s = eq1.subs([(a,-3),(b,3),(e,2)])\n",
    "eq2s = eq2.subs([(c,-1),(d,-2),(f,1)])\n",
    "display(eq1s, eq2s)"
   ]
  },
  {
   "cell_type": "code",
   "execution_count": 21,
   "metadata": {},
   "outputs": [
    {
     "data": {
      "image/png": "[encoded data removed]",
      "text/latex": [
       "$\\displaystyle x{\\left(t \\right)} - \\frac{2}{3}$"
      ],
      "text/plain": [
       "x(t) - 2/3"
      ]
     },
     "metadata": {},
     "output_type": "display_data"
    },
    {
     "data": {
      "image/png": "[encoded data removed]",
      "text/latex": [
       "$\\displaystyle \\frac{1}{2} - \\frac{x{\\left(t \\right)}}{2}$"
      ],
      "text/plain": [
       "1   x(t)\n",
       "─ - ────\n",
       "2    2  "
      ]
     },
     "metadata": {},
     "output_type": "display_data"
    }
   ],
   "source": [
    "# These are the formulas for equilibrium lines\n",
    "x0 = sp.solve(sp.Eq(eq1s.rhs), y)[0] #x_dot = 0\n",
    "y0 = sp.solve(sp.Eq(eq2s.rhs), y)[0] #y_dot = 0\n",
    "\n",
    "display(x0, y0)"
   ]
  },
  {
   "cell_type": "code",
   "execution_count": 22,
   "metadata": {},
   "outputs": [
    {
     "data": {
      "image/png": "[encoded data removed]",
      "text/latex": [
       "$\\displaystyle \\frac{7}{9}$"
      ],
      "text/plain": [
       "7/9"
      ]
     },
     "metadata": {},
     "output_type": "display_data"
    },
    {
     "data": {
      "image/png": "[encoded data removed]",
      "text/latex": [
       "$\\displaystyle \\frac{1}{9}$"
      ],
      "text/plain": [
       "1/9"
      ]
     },
     "metadata": {},
     "output_type": "display_data"
    }
   ],
   "source": [
    "x_eq = sp.solve(sp.Eq(x0, y0), x)[0]\n",
    "y_eq = y0.subs(x, x_eq)\n",
    "\n",
    "display(x_eq, y_eq)"
   ]
  },
  {
   "cell_type": "code",
   "execution_count": 28,
   "metadata": {},
   "outputs": [
    {
     "ename": "AttributeError",
     "evalue": "MutableDenseMatrix has no attribute eigenvalues.",
     "output_type": "error",
     "traceback": [
      "\u001b[1;31m---------------------------------------------------------------------------\u001b[0m",
      "\u001b[1;31mAttributeError\u001b[0m                            Traceback (most recent call last)",
      "\u001b[1;32m<ipython-input-28-7a9f258c2afa>\u001b[0m in \u001b[0;36m<module>\u001b[1;34m\u001b[0m\n\u001b[0;32m      1\u001b[0m eigens = sp.Matrix([\n\u001b[0;32m      2\u001b[0m     \u001b[0msp\u001b[0m\u001b[1;33m.\u001b[0m\u001b[0mPoly\u001b[0m\u001b[1;33m(\u001b[0m\u001b[0meq1s\u001b[0m\u001b[1;33m.\u001b[0m\u001b[0mrhs\u001b[0m\u001b[1;33m)\u001b[0m\u001b[1;33m.\u001b[0m\u001b[0mcoeffs\u001b[0m\u001b[1;33m(\u001b[0m\u001b[1;33m)\u001b[0m\u001b[1;33m[\u001b[0m\u001b[1;33m:\u001b[0m\u001b[1;36m2\u001b[0m\u001b[1;33m]\u001b[0m\u001b[1;33m,\u001b[0m\u001b[1;33m\u001b[0m\u001b[1;33m\u001b[0m\u001b[0m\n\u001b[1;32m----> 3\u001b[1;33m     \u001b[0msp\u001b[0m\u001b[1;33m.\u001b[0m\u001b[0mPoly\u001b[0m\u001b[1;33m(\u001b[0m\u001b[0meq2s\u001b[0m\u001b[1;33m.\u001b[0m\u001b[0mrhs\u001b[0m\u001b[1;33m)\u001b[0m\u001b[1;33m.\u001b[0m\u001b[0mcoeffs\u001b[0m\u001b[1;33m(\u001b[0m\u001b[1;33m)\u001b[0m\u001b[1;33m[\u001b[0m\u001b[1;33m:\u001b[0m\u001b[1;36m2\u001b[0m\u001b[1;33m]\u001b[0m\u001b[1;33m\u001b[0m\u001b[1;33m\u001b[0m\u001b[0m\n\u001b[0m\u001b[0;32m      4\u001b[0m ]).eigenvalues()\n\u001b[0;32m      5\u001b[0m \u001b[1;33m\u001b[0m\u001b[0m\n",
      "\u001b[1;32m~\\Anaconda3\\lib\\site-packages\\sympy\\matrices\\matrices.py\u001b[0m in \u001b[0;36m__getattr__\u001b[1;34m(self, attr)\u001b[0m\n\u001b[0;32m   2139\u001b[0m         \u001b[1;32melse\u001b[0m\u001b[1;33m:\u001b[0m\u001b[1;33m\u001b[0m\u001b[1;33m\u001b[0m\u001b[0m\n\u001b[0;32m   2140\u001b[0m             raise AttributeError(\n\u001b[1;32m-> 2141\u001b[1;33m                 \"%s has no attribute %s.\" % (self.__class__.__name__, attr))\n\u001b[0m\u001b[0;32m   2142\u001b[0m \u001b[1;33m\u001b[0m\u001b[0m\n\u001b[0;32m   2143\u001b[0m     \u001b[1;32mdef\u001b[0m \u001b[0m__len__\u001b[0m\u001b[1;33m(\u001b[0m\u001b[0mself\u001b[0m\u001b[1;33m)\u001b[0m\u001b[1;33m:\u001b[0m\u001b[1;33m\u001b[0m\u001b[1;33m\u001b[0m\u001b[0m\n",
      "\u001b[1;31mAttributeError\u001b[0m: MutableDenseMatrix has no attribute eigenvalues."
     ]
    }
   ],
   "source": [
    "eigens = sp.Matrix([\n",
    "    sp.Poly(eq1s.rhs).coeffs()[:2],\n",
    "    sp.Poly(eq2s.rhs).coeffs()[:2]\n",
    "]).eigenvects()\n",
    "\n",
    "eigens"
   ]
  },
  {
   "cell_type": "code",
   "execution_count": 27,
   "metadata": {},
   "outputs": [
    {
     "data": {
      "text/plain": [
       "['C',\n",
       " 'D',\n",
       " 'H',\n",
       " 'LDLdecomposition',\n",
       " 'LDLsolve',\n",
       " 'LUdecomposition',\n",
       " 'LUdecompositionFF',\n",
       " 'LUdecomposition_Simple',\n",
       " 'LUsolve',\n",
       " 'QRdecomposition',\n",
       " 'QRsolve',\n",
       " 'T',\n",
       " '_LDLdecomposition',\n",
       " '__abs__',\n",
       " '__add__',\n",
       " '__array__',\n",
       " '__array_priority__',\n",
       " '__class__',\n",
       " '__delattr__',\n",
       " '__dict__',\n",
       " '__dir__',\n",
       " '__div__',\n",
       " '__doc__',\n",
       " '__eq__',\n",
       " '__format__',\n",
       " '__ge__',\n",
       " '__getattr__',\n",
       " '__getattribute__',\n",
       " '__getitem__',\n",
       " '__gt__',\n",
       " '__hash__',\n",
       " '__init__',\n",
       " '__init_subclass__',\n",
       " '__le__',\n",
       " '__len__',\n",
       " '__lt__',\n",
       " '__mathml__',\n",
       " '__matmul__',\n",
       " '__module__',\n",
       " '__mul__',\n",
       " '__ne__',\n",
       " '__neg__',\n",
       " '__new__',\n",
       " '__pow__',\n",
       " '__radd__',\n",
       " '__reduce__',\n",
       " '__reduce_ex__',\n",
       " '__repr__',\n",
       " '__rmatmul__',\n",
       " '__rmul__',\n",
       " '__rsub__',\n",
       " '__setattr__',\n",
       " '__setitem__',\n",
       " '__sizeof__',\n",
       " '__str__',\n",
       " '__sub__',\n",
       " '__subclasshook__',\n",
       " '__truediv__',\n",
       " '__weakref__',\n",
       " '_accept_eval_derivative',\n",
       " '_cache_eigenvects',\n",
       " '_cache_is_diagonalizable',\n",
       " '_cholesky',\n",
       " '_class_priority',\n",
       " '_diagonal_solve',\n",
       " '_diagonalize_clear_subproducts',\n",
       " '_diff_wrt',\n",
       " '_eval_Abs',\n",
       " '_eval_Mod',\n",
       " '_eval_add',\n",
       " '_eval_adjoint',\n",
       " '_eval_applyfunc',\n",
       " '_eval_as_real_imag',\n",
       " '_eval_atoms',\n",
       " '_eval_berkowitz_toeplitz_matrix',\n",
       " '_eval_berkowitz_vector',\n",
       " '_eval_col_del',\n",
       " '_eval_col_insert',\n",
       " '_eval_col_join',\n",
       " '_eval_col_op_add_multiple_to_other_col',\n",
       " '_eval_col_op_multiply_col_by_const',\n",
       " '_eval_col_op_swap',\n",
       " '_eval_conjugate',\n",
       " '_eval_derivative',\n",
       " '_eval_det_bareiss',\n",
       " '_eval_det_berkowitz',\n",
       " '_eval_det_lu',\n",
       " '_eval_determinant',\n",
       " '_eval_diag',\n",
       " '_eval_echelon_form',\n",
       " '_eval_extract',\n",
       " '_eval_eye',\n",
       " '_eval_free_symbols',\n",
       " '_eval_get_diag_blocks',\n",
       " '_eval_has',\n",
       " '_eval_inverse',\n",
       " '_eval_is_Identity',\n",
       " '_eval_is_anti_symmetric',\n",
       " '_eval_is_diagonal',\n",
       " '_eval_is_echelon',\n",
       " '_eval_is_lower',\n",
       " '_eval_is_lower_hessenberg',\n",
       " '_eval_is_matrix_hermitian',\n",
       " '_eval_is_symbolic',\n",
       " '_eval_is_symmetric',\n",
       " '_eval_is_upper_hessenberg',\n",
       " '_eval_is_zero',\n",
       " '_eval_jordan_block',\n",
       " '_eval_matrix_mul',\n",
       " '_eval_matrix_mul_elementwise',\n",
       " '_eval_matrix_rmul',\n",
       " '_eval_ones',\n",
       " '_eval_permute_cols',\n",
       " '_eval_permute_rows',\n",
       " '_eval_pow_by_recursion',\n",
       " '_eval_row_del',\n",
       " '_eval_row_insert',\n",
       " '_eval_row_join',\n",
       " '_eval_row_op_add_multiple_to_other_row',\n",
       " '_eval_row_op_multiply_row_by_const',\n",
       " '_eval_row_op_swap',\n",
       " '_eval_rref',\n",
       " '_eval_scalar_mul',\n",
       " '_eval_scalar_rmul',\n",
       " '_eval_simplify',\n",
       " '_eval_tolist',\n",
       " '_eval_trace',\n",
       " '_eval_transpose',\n",
       " '_eval_trigsimp',\n",
       " '_eval_values',\n",
       " '_eval_vec',\n",
       " '_eval_zeros',\n",
       " '_format_str',\n",
       " '_handle_creation_inputs',\n",
       " '_legacy_array_dot',\n",
       " '_lower_triangular_solve',\n",
       " '_matrix_pow_by_jordan_blocks',\n",
       " '_new',\n",
       " '_normalize_op_args',\n",
       " '_op_priority',\n",
       " '_permute_complexity_right',\n",
       " '_repr_latex_',\n",
       " '_repr_latex_orig',\n",
       " '_row_reduce',\n",
       " '_setitem',\n",
       " '_simplify',\n",
       " '_sympify',\n",
       " '_upper_triangular_solve',\n",
       " '_visit_eval_derivative_array',\n",
       " '_visit_eval_derivative_scalar',\n",
       " 'add',\n",
       " 'adjoint',\n",
       " 'adjugate',\n",
       " 'applyfunc',\n",
       " 'as_immutable',\n",
       " 'as_mutable',\n",
       " 'as_real_imag',\n",
       " 'atoms',\n",
       " 'berkowitz',\n",
       " 'berkowitz_charpoly',\n",
       " 'berkowitz_det',\n",
       " 'berkowitz_eigenvals',\n",
       " 'berkowitz_minors',\n",
       " 'charpoly',\n",
       " 'cholesky',\n",
       " 'cholesky_solve',\n",
       " 'cofactor',\n",
       " 'cofactorMatrix',\n",
       " 'cofactor_matrix',\n",
       " 'col',\n",
       " 'col_del',\n",
       " 'col_insert',\n",
       " 'col_join',\n",
       " 'col_op',\n",
       " 'col_swap',\n",
       " 'cols',\n",
       " 'columnspace',\n",
       " 'condition_number',\n",
       " 'conjugate',\n",
       " 'copy',\n",
       " 'copyin_list',\n",
       " 'copyin_matrix',\n",
       " 'cross',\n",
       " 'det',\n",
       " 'det_LU_decomposition',\n",
       " 'det_bareis',\n",
       " 'det_bareiss',\n",
       " 'diag',\n",
       " 'diagonal_solve',\n",
       " 'diagonalize',\n",
       " 'diff',\n",
       " 'doit',\n",
       " 'dot',\n",
       " 'dual',\n",
       " 'echelon_form',\n",
       " 'eigenvals',\n",
       " 'eigenvects',\n",
       " 'elementary_col_op',\n",
       " 'elementary_row_op',\n",
       " 'equals',\n",
       " 'evalf',\n",
       " 'exp',\n",
       " 'expand',\n",
       " 'extract',\n",
       " 'eye',\n",
       " 'fill',\n",
       " 'free_symbols',\n",
       " 'gauss_jordan_solve',\n",
       " 'get_diag_blocks',\n",
       " 'has',\n",
       " 'hstack',\n",
       " 'integrate',\n",
       " 'inv',\n",
       " 'inv_mod',\n",
       " 'inverse_ADJ',\n",
       " 'inverse_GE',\n",
       " 'inverse_LU',\n",
       " 'is_Identity',\n",
       " 'is_Matrix',\n",
       " 'is_MatrixExpr',\n",
       " 'is_anti_symmetric',\n",
       " 'is_diagonal',\n",
       " 'is_diagonalizable',\n",
       " 'is_echelon',\n",
       " 'is_hermitian',\n",
       " 'is_lower',\n",
       " 'is_lower_hessenberg',\n",
       " 'is_nilpotent',\n",
       " 'is_square',\n",
       " 'is_symbolic',\n",
       " 'is_symmetric',\n",
       " 'is_upper',\n",
       " 'is_upper_hessenberg',\n",
       " 'is_zero',\n",
       " 'jacobian',\n",
       " 'jordan_block',\n",
       " 'jordan_cell',\n",
       " 'jordan_cells',\n",
       " 'jordan_form',\n",
       " 'key2bounds',\n",
       " 'key2ij',\n",
       " 'left_eigenvects',\n",
       " 'limit',\n",
       " 'lower_triangular_solve',\n",
       " 'minor',\n",
       " 'minorEntry',\n",
       " 'minorMatrix',\n",
       " 'minor_submatrix',\n",
       " 'multiply',\n",
       " 'multiply_elementwise',\n",
       " 'n',\n",
       " 'norm',\n",
       " 'normalized',\n",
       " 'nullspace',\n",
       " 'ones',\n",
       " 'orthogonalize',\n",
       " 'permute',\n",
       " 'permuteBkwd',\n",
       " 'permuteFwd',\n",
       " 'permute_cols',\n",
       " 'permute_rows',\n",
       " 'pinv',\n",
       " 'pinv_solve',\n",
       " 'print_nonzero',\n",
       " 'project',\n",
       " 'rank',\n",
       " 'rank_decomposition',\n",
       " 'refine',\n",
       " 'replace',\n",
       " 'reshape',\n",
       " 'row',\n",
       " 'row_del',\n",
       " 'row_insert',\n",
       " 'row_join',\n",
       " 'row_op',\n",
       " 'row_swap',\n",
       " 'rows',\n",
       " 'rowspace',\n",
       " 'rref',\n",
       " 'shape',\n",
       " 'simplify',\n",
       " 'singular_values',\n",
       " 'solve',\n",
       " 'solve_least_squares',\n",
       " 'subs',\n",
       " 'table',\n",
       " 'tolist',\n",
       " 'trace',\n",
       " 'transpose',\n",
       " 'upper_triangular_solve',\n",
       " 'values',\n",
       " 'vec',\n",
       " 'vech',\n",
       " 'vstack',\n",
       " 'xreplace',\n",
       " 'zeros',\n",
       " 'zip_row_op']"
      ]
     },
     "execution_count": 27,
     "metadata": {},
     "output_type": "execute_result"
    }
   ],
   "source": [
    "dir(sp.Matrix)"
   ]
  },
  {
   "cell_type": "code",
   "execution_count": 24,
   "metadata": {},
   "outputs": [],
   "source": [
    "xsize = 25                                        # number of points on x axis\n",
    "ysize = 25                                        # number of points on y axis\n",
    "x_vals = np.linspace(-10, 10, xsize)              # prepare the x-values\n",
    "y_vals = np.linspace(-30, 30, ysize)              # prepare the y-values\n",
    "\n",
    "xeq = sp.lambdify(x, x0)\n",
    "yeq = sp.lambdify(x, y0)\n",
    "x0_vals = [xeq(i) for i in x_vals]                # equilibrium line x' = 0\n",
    "y0_vals = [yeq(i) for i in x_vals]                # equilibrium line y' = 0\n",
    "\n",
    "eigen_1 = x_vals * (-1) * eigens[0][2][0][0].evalf() + y_eq\n",
    "eigen_2 = x_vals * (-1) * eigens[1][2][0][0].evalf() + y_eq"
   ]
  },
  {
   "cell_type": "code",
   "execution_count": 25,
   "metadata": {},
   "outputs": [
    {
     "ename": "TypeError",
     "evalue": "can't convert complex to float",
     "output_type": "error",
     "traceback": [
      "\u001b[1;31m---------------------------------------------------------------------------\u001b[0m",
      "\u001b[1;31mTypeError\u001b[0m                                 Traceback (most recent call last)",
      "\u001b[1;32m<ipython-input-25-d6ad9a2b9d05>\u001b[0m in \u001b[0;36m<module>\u001b[1;34m\u001b[0m\n\u001b[0;32m     10\u001b[0m \u001b[0mplt\u001b[0m\u001b[1;33m.\u001b[0m\u001b[0mplot\u001b[0m\u001b[1;33m(\u001b[0m\u001b[0mx_vals\u001b[0m\u001b[1;33m,\u001b[0m \u001b[0my0_vals\u001b[0m\u001b[1;33m,\u001b[0m \u001b[0mlinewidth\u001b[0m \u001b[1;33m=\u001b[0m \u001b[1;36m4\u001b[0m\u001b[1;33m,\u001b[0m \u001b[0mlabel\u001b[0m \u001b[1;33m=\u001b[0m \u001b[1;34m\"y'= 0\"\u001b[0m\u001b[1;33m)\u001b[0m\u001b[1;33m\u001b[0m\u001b[1;33m\u001b[0m\u001b[0m\n\u001b[0;32m     11\u001b[0m \u001b[1;33m\u001b[0m\u001b[0m\n\u001b[1;32m---> 12\u001b[1;33m \u001b[0mplt\u001b[0m\u001b[1;33m.\u001b[0m\u001b[0mplot\u001b[0m\u001b[1;33m(\u001b[0m\u001b[0mx_vals\u001b[0m \u001b[1;33m+\u001b[0m \u001b[0mx_eq\u001b[0m\u001b[1;33m,\u001b[0m \u001b[0meigen_1\u001b[0m\u001b[1;33m,\u001b[0m \u001b[0mlinestyle\u001b[0m \u001b[1;33m=\u001b[0m \u001b[1;34m'--'\u001b[0m\u001b[1;33m,\u001b[0m \u001b[0mlabel\u001b[0m \u001b[1;33m=\u001b[0m \u001b[1;34m\"eig 1\"\u001b[0m\u001b[1;33m)\u001b[0m\u001b[1;33m\u001b[0m\u001b[1;33m\u001b[0m\u001b[0m\n\u001b[0m\u001b[0;32m     13\u001b[0m \u001b[0mplt\u001b[0m\u001b[1;33m.\u001b[0m\u001b[0mplot\u001b[0m\u001b[1;33m(\u001b[0m\u001b[0mx_vals\u001b[0m \u001b[1;33m+\u001b[0m \u001b[0mx_eq\u001b[0m\u001b[1;33m,\u001b[0m \u001b[0meigen_2\u001b[0m\u001b[1;33m,\u001b[0m \u001b[0mlinestyle\u001b[0m \u001b[1;33m=\u001b[0m \u001b[1;34m'--'\u001b[0m\u001b[1;33m,\u001b[0m \u001b[0mlabel\u001b[0m \u001b[1;33m=\u001b[0m \u001b[1;34m\"eig 2\"\u001b[0m\u001b[1;33m)\u001b[0m\u001b[1;33m\u001b[0m\u001b[1;33m\u001b[0m\u001b[0m\n\u001b[0;32m     14\u001b[0m \u001b[1;33m\u001b[0m\u001b[0m\n",
      "\u001b[1;32m~\\Anaconda3\\lib\\site-packages\\matplotlib\\pyplot.py\u001b[0m in \u001b[0;36mplot\u001b[1;34m(scalex, scaley, data, *args, **kwargs)\u001b[0m\n\u001b[0;32m   2793\u001b[0m     return gca().plot(\n\u001b[0;32m   2794\u001b[0m         *args, scalex=scalex, scaley=scaley, **({\"data\": data} if data\n\u001b[1;32m-> 2795\u001b[1;33m         is not None else {}), **kwargs)\n\u001b[0m\u001b[0;32m   2796\u001b[0m \u001b[1;33m\u001b[0m\u001b[0m\n\u001b[0;32m   2797\u001b[0m \u001b[1;33m\u001b[0m\u001b[0m\n",
      "\u001b[1;32m~\\Anaconda3\\lib\\site-packages\\matplotlib\\axes\\_axes.py\u001b[0m in \u001b[0;36mplot\u001b[1;34m(self, scalex, scaley, data, *args, **kwargs)\u001b[0m\n\u001b[0;32m   1666\u001b[0m         \u001b[0mlines\u001b[0m \u001b[1;33m=\u001b[0m \u001b[1;33m[\u001b[0m\u001b[1;33m*\u001b[0m\u001b[0mself\u001b[0m\u001b[1;33m.\u001b[0m\u001b[0m_get_lines\u001b[0m\u001b[1;33m(\u001b[0m\u001b[1;33m*\u001b[0m\u001b[0margs\u001b[0m\u001b[1;33m,\u001b[0m \u001b[0mdata\u001b[0m\u001b[1;33m=\u001b[0m\u001b[0mdata\u001b[0m\u001b[1;33m,\u001b[0m \u001b[1;33m**\u001b[0m\u001b[0mkwargs\u001b[0m\u001b[1;33m)\u001b[0m\u001b[1;33m]\u001b[0m\u001b[1;33m\u001b[0m\u001b[1;33m\u001b[0m\u001b[0m\n\u001b[0;32m   1667\u001b[0m         \u001b[1;32mfor\u001b[0m \u001b[0mline\u001b[0m \u001b[1;32min\u001b[0m \u001b[0mlines\u001b[0m\u001b[1;33m:\u001b[0m\u001b[1;33m\u001b[0m\u001b[1;33m\u001b[0m\u001b[0m\n\u001b[1;32m-> 1668\u001b[1;33m             \u001b[0mself\u001b[0m\u001b[1;33m.\u001b[0m\u001b[0madd_line\u001b[0m\u001b[1;33m(\u001b[0m\u001b[0mline\u001b[0m\u001b[1;33m)\u001b[0m\u001b[1;33m\u001b[0m\u001b[1;33m\u001b[0m\u001b[0m\n\u001b[0m\u001b[0;32m   1669\u001b[0m         \u001b[0mself\u001b[0m\u001b[1;33m.\u001b[0m\u001b[0mautoscale_view\u001b[0m\u001b[1;33m(\u001b[0m\u001b[0mscalex\u001b[0m\u001b[1;33m=\u001b[0m\u001b[0mscalex\u001b[0m\u001b[1;33m,\u001b[0m \u001b[0mscaley\u001b[0m\u001b[1;33m=\u001b[0m\u001b[0mscaley\u001b[0m\u001b[1;33m)\u001b[0m\u001b[1;33m\u001b[0m\u001b[1;33m\u001b[0m\u001b[0m\n\u001b[0;32m   1670\u001b[0m         \u001b[1;32mreturn\u001b[0m \u001b[0mlines\u001b[0m\u001b[1;33m\u001b[0m\u001b[1;33m\u001b[0m\u001b[0m\n",
      "\u001b[1;32m~\\Anaconda3\\lib\\site-packages\\matplotlib\\axes\\_base.py\u001b[0m in \u001b[0;36madd_line\u001b[1;34m(self, line)\u001b[0m\n\u001b[0;32m   1900\u001b[0m             \u001b[0mline\u001b[0m\u001b[1;33m.\u001b[0m\u001b[0mset_clip_path\u001b[0m\u001b[1;33m(\u001b[0m\u001b[0mself\u001b[0m\u001b[1;33m.\u001b[0m\u001b[0mpatch\u001b[0m\u001b[1;33m)\u001b[0m\u001b[1;33m\u001b[0m\u001b[1;33m\u001b[0m\u001b[0m\n\u001b[0;32m   1901\u001b[0m \u001b[1;33m\u001b[0m\u001b[0m\n\u001b[1;32m-> 1902\u001b[1;33m         \u001b[0mself\u001b[0m\u001b[1;33m.\u001b[0m\u001b[0m_update_line_limits\u001b[0m\u001b[1;33m(\u001b[0m\u001b[0mline\u001b[0m\u001b[1;33m)\u001b[0m\u001b[1;33m\u001b[0m\u001b[1;33m\u001b[0m\u001b[0m\n\u001b[0m\u001b[0;32m   1903\u001b[0m         \u001b[1;32mif\u001b[0m \u001b[1;32mnot\u001b[0m \u001b[0mline\u001b[0m\u001b[1;33m.\u001b[0m\u001b[0mget_label\u001b[0m\u001b[1;33m(\u001b[0m\u001b[1;33m)\u001b[0m\u001b[1;33m:\u001b[0m\u001b[1;33m\u001b[0m\u001b[1;33m\u001b[0m\u001b[0m\n\u001b[0;32m   1904\u001b[0m             \u001b[0mline\u001b[0m\u001b[1;33m.\u001b[0m\u001b[0mset_label\u001b[0m\u001b[1;33m(\u001b[0m\u001b[1;34m'_line%d'\u001b[0m \u001b[1;33m%\u001b[0m \u001b[0mlen\u001b[0m\u001b[1;33m(\u001b[0m\u001b[0mself\u001b[0m\u001b[1;33m.\u001b[0m\u001b[0mlines\u001b[0m\u001b[1;33m)\u001b[0m\u001b[1;33m)\u001b[0m\u001b[1;33m\u001b[0m\u001b[1;33m\u001b[0m\u001b[0m\n",
      "\u001b[1;32m~\\Anaconda3\\lib\\site-packages\\matplotlib\\axes\\_base.py\u001b[0m in \u001b[0;36m_update_line_limits\u001b[1;34m(self, line)\u001b[0m\n\u001b[0;32m   1922\u001b[0m         \u001b[0mFigures\u001b[0m \u001b[0mout\u001b[0m \u001b[0mthe\u001b[0m \u001b[0mdata\u001b[0m \u001b[0mlimit\u001b[0m \u001b[0mof\u001b[0m \u001b[0mthe\u001b[0m \u001b[0mgiven\u001b[0m \u001b[0mline\u001b[0m\u001b[1;33m,\u001b[0m \u001b[0mupdating\u001b[0m \u001b[0mself\u001b[0m\u001b[1;33m.\u001b[0m\u001b[0mdataLim\u001b[0m\u001b[1;33m.\u001b[0m\u001b[1;33m\u001b[0m\u001b[1;33m\u001b[0m\u001b[0m\n\u001b[0;32m   1923\u001b[0m         \"\"\"\n\u001b[1;32m-> 1924\u001b[1;33m         \u001b[0mpath\u001b[0m \u001b[1;33m=\u001b[0m \u001b[0mline\u001b[0m\u001b[1;33m.\u001b[0m\u001b[0mget_path\u001b[0m\u001b[1;33m(\u001b[0m\u001b[1;33m)\u001b[0m\u001b[1;33m\u001b[0m\u001b[1;33m\u001b[0m\u001b[0m\n\u001b[0m\u001b[0;32m   1925\u001b[0m         \u001b[1;32mif\u001b[0m \u001b[0mpath\u001b[0m\u001b[1;33m.\u001b[0m\u001b[0mvertices\u001b[0m\u001b[1;33m.\u001b[0m\u001b[0msize\u001b[0m \u001b[1;33m==\u001b[0m \u001b[1;36m0\u001b[0m\u001b[1;33m:\u001b[0m\u001b[1;33m\u001b[0m\u001b[1;33m\u001b[0m\u001b[0m\n\u001b[0;32m   1926\u001b[0m             \u001b[1;32mreturn\u001b[0m\u001b[1;33m\u001b[0m\u001b[1;33m\u001b[0m\u001b[0m\n",
      "\u001b[1;32m~\\Anaconda3\\lib\\site-packages\\matplotlib\\lines.py\u001b[0m in \u001b[0;36mget_path\u001b[1;34m(self)\u001b[0m\n\u001b[0;32m   1025\u001b[0m         \"\"\"\n\u001b[0;32m   1026\u001b[0m         \u001b[1;32mif\u001b[0m \u001b[0mself\u001b[0m\u001b[1;33m.\u001b[0m\u001b[0m_invalidy\u001b[0m \u001b[1;32mor\u001b[0m \u001b[0mself\u001b[0m\u001b[1;33m.\u001b[0m\u001b[0m_invalidx\u001b[0m\u001b[1;33m:\u001b[0m\u001b[1;33m\u001b[0m\u001b[1;33m\u001b[0m\u001b[0m\n\u001b[1;32m-> 1027\u001b[1;33m             \u001b[0mself\u001b[0m\u001b[1;33m.\u001b[0m\u001b[0mrecache\u001b[0m\u001b[1;33m(\u001b[0m\u001b[1;33m)\u001b[0m\u001b[1;33m\u001b[0m\u001b[1;33m\u001b[0m\u001b[0m\n\u001b[0m\u001b[0;32m   1028\u001b[0m         \u001b[1;32mreturn\u001b[0m \u001b[0mself\u001b[0m\u001b[1;33m.\u001b[0m\u001b[0m_path\u001b[0m\u001b[1;33m\u001b[0m\u001b[1;33m\u001b[0m\u001b[0m\n\u001b[0;32m   1029\u001b[0m \u001b[1;33m\u001b[0m\u001b[0m\n",
      "\u001b[1;32m~\\Anaconda3\\lib\\site-packages\\matplotlib\\lines.py\u001b[0m in \u001b[0;36mrecache\u001b[1;34m(self, always)\u001b[0m\n\u001b[0;32m    673\u001b[0m         \u001b[1;32mif\u001b[0m \u001b[0malways\u001b[0m \u001b[1;32mor\u001b[0m \u001b[0mself\u001b[0m\u001b[1;33m.\u001b[0m\u001b[0m_invalidy\u001b[0m\u001b[1;33m:\u001b[0m\u001b[1;33m\u001b[0m\u001b[1;33m\u001b[0m\u001b[0m\n\u001b[0;32m    674\u001b[0m             \u001b[0myconv\u001b[0m \u001b[1;33m=\u001b[0m \u001b[0mself\u001b[0m\u001b[1;33m.\u001b[0m\u001b[0mconvert_yunits\u001b[0m\u001b[1;33m(\u001b[0m\u001b[0mself\u001b[0m\u001b[1;33m.\u001b[0m\u001b[0m_yorig\u001b[0m\u001b[1;33m)\u001b[0m\u001b[1;33m\u001b[0m\u001b[1;33m\u001b[0m\u001b[0m\n\u001b[1;32m--> 675\u001b[1;33m             \u001b[0my\u001b[0m \u001b[1;33m=\u001b[0m \u001b[0m_to_unmasked_float_array\u001b[0m\u001b[1;33m(\u001b[0m\u001b[0myconv\u001b[0m\u001b[1;33m)\u001b[0m\u001b[1;33m.\u001b[0m\u001b[0mravel\u001b[0m\u001b[1;33m(\u001b[0m\u001b[1;33m)\u001b[0m\u001b[1;33m\u001b[0m\u001b[1;33m\u001b[0m\u001b[0m\n\u001b[0m\u001b[0;32m    676\u001b[0m         \u001b[1;32melse\u001b[0m\u001b[1;33m:\u001b[0m\u001b[1;33m\u001b[0m\u001b[1;33m\u001b[0m\u001b[0m\n\u001b[0;32m    677\u001b[0m             \u001b[0my\u001b[0m \u001b[1;33m=\u001b[0m \u001b[0mself\u001b[0m\u001b[1;33m.\u001b[0m\u001b[0m_y\u001b[0m\u001b[1;33m\u001b[0m\u001b[1;33m\u001b[0m\u001b[0m\n",
      "\u001b[1;32m~\\Anaconda3\\lib\\site-packages\\matplotlib\\cbook\\__init__.py\u001b[0m in \u001b[0;36m_to_unmasked_float_array\u001b[1;34m(x)\u001b[0m\n\u001b[0;32m   1388\u001b[0m         \u001b[1;32mreturn\u001b[0m \u001b[0mnp\u001b[0m\u001b[1;33m.\u001b[0m\u001b[0mma\u001b[0m\u001b[1;33m.\u001b[0m\u001b[0masarray\u001b[0m\u001b[1;33m(\u001b[0m\u001b[0mx\u001b[0m\u001b[1;33m,\u001b[0m \u001b[0mfloat\u001b[0m\u001b[1;33m)\u001b[0m\u001b[1;33m.\u001b[0m\u001b[0mfilled\u001b[0m\u001b[1;33m(\u001b[0m\u001b[0mnp\u001b[0m\u001b[1;33m.\u001b[0m\u001b[0mnan\u001b[0m\u001b[1;33m)\u001b[0m\u001b[1;33m\u001b[0m\u001b[1;33m\u001b[0m\u001b[0m\n\u001b[0;32m   1389\u001b[0m     \u001b[1;32melse\u001b[0m\u001b[1;33m:\u001b[0m\u001b[1;33m\u001b[0m\u001b[1;33m\u001b[0m\u001b[0m\n\u001b[1;32m-> 1390\u001b[1;33m         \u001b[1;32mreturn\u001b[0m \u001b[0mnp\u001b[0m\u001b[1;33m.\u001b[0m\u001b[0masarray\u001b[0m\u001b[1;33m(\u001b[0m\u001b[0mx\u001b[0m\u001b[1;33m,\u001b[0m \u001b[0mfloat\u001b[0m\u001b[1;33m)\u001b[0m\u001b[1;33m\u001b[0m\u001b[1;33m\u001b[0m\u001b[0m\n\u001b[0m\u001b[0;32m   1391\u001b[0m \u001b[1;33m\u001b[0m\u001b[0m\n\u001b[0;32m   1392\u001b[0m \u001b[1;33m\u001b[0m\u001b[0m\n",
      "\u001b[1;32m~\\Anaconda3\\lib\\site-packages\\numpy\\core\\numeric.py\u001b[0m in \u001b[0;36masarray\u001b[1;34m(a, dtype, order)\u001b[0m\n\u001b[0;32m    536\u001b[0m \u001b[1;33m\u001b[0m\u001b[0m\n\u001b[0;32m    537\u001b[0m     \"\"\"\n\u001b[1;32m--> 538\u001b[1;33m     \u001b[1;32mreturn\u001b[0m \u001b[0marray\u001b[0m\u001b[1;33m(\u001b[0m\u001b[0ma\u001b[0m\u001b[1;33m,\u001b[0m \u001b[0mdtype\u001b[0m\u001b[1;33m,\u001b[0m \u001b[0mcopy\u001b[0m\u001b[1;33m=\u001b[0m\u001b[1;32mFalse\u001b[0m\u001b[1;33m,\u001b[0m \u001b[0morder\u001b[0m\u001b[1;33m=\u001b[0m\u001b[0morder\u001b[0m\u001b[1;33m)\u001b[0m\u001b[1;33m\u001b[0m\u001b[1;33m\u001b[0m\u001b[0m\n\u001b[0m\u001b[0;32m    539\u001b[0m \u001b[1;33m\u001b[0m\u001b[0m\n\u001b[0;32m    540\u001b[0m \u001b[1;33m\u001b[0m\u001b[0m\n",
      "\u001b[1;32m~\\Anaconda3\\lib\\site-packages\\sympy\\core\\expr.py\u001b[0m in \u001b[0;36m__float__\u001b[1;34m(self)\u001b[0m\n\u001b[0;32m    277\u001b[0m             \u001b[1;32mreturn\u001b[0m \u001b[0mfloat\u001b[0m\u001b[1;33m(\u001b[0m\u001b[0mresult\u001b[0m\u001b[1;33m)\u001b[0m\u001b[1;33m\u001b[0m\u001b[1;33m\u001b[0m\u001b[0m\n\u001b[0;32m    278\u001b[0m         \u001b[1;32mif\u001b[0m \u001b[0mresult\u001b[0m\u001b[1;33m.\u001b[0m\u001b[0mis_number\u001b[0m \u001b[1;32mand\u001b[0m \u001b[0mresult\u001b[0m\u001b[1;33m.\u001b[0m\u001b[0mas_real_imag\u001b[0m\u001b[1;33m(\u001b[0m\u001b[1;33m)\u001b[0m\u001b[1;33m[\u001b[0m\u001b[1;36m1\u001b[0m\u001b[1;33m]\u001b[0m\u001b[1;33m:\u001b[0m\u001b[1;33m\u001b[0m\u001b[1;33m\u001b[0m\u001b[0m\n\u001b[1;32m--> 279\u001b[1;33m             \u001b[1;32mraise\u001b[0m \u001b[0mTypeError\u001b[0m\u001b[1;33m(\u001b[0m\u001b[1;34m\"can't convert complex to float\"\u001b[0m\u001b[1;33m)\u001b[0m\u001b[1;33m\u001b[0m\u001b[1;33m\u001b[0m\u001b[0m\n\u001b[0m\u001b[0;32m    280\u001b[0m         \u001b[1;32mraise\u001b[0m \u001b[0mTypeError\u001b[0m\u001b[1;33m(\u001b[0m\u001b[1;34m\"can't convert expression to float\"\u001b[0m\u001b[1;33m)\u001b[0m\u001b[1;33m\u001b[0m\u001b[1;33m\u001b[0m\u001b[0m\n\u001b[0;32m    281\u001b[0m \u001b[1;33m\u001b[0m\u001b[0m\n",
      "\u001b[1;31mTypeError\u001b[0m: can't convert complex to float"
     ]
    },
    {
     "data": {
      "image/png": "[encoded data removed]",
      "text/plain": [
       "<Figure size 1440x720 with 1 Axes>"
      ]
     },
     "metadata": {
      "needs_background": "light"
     },
     "output_type": "display_data"
    }
   ],
   "source": [
    "fig = plt.figure(figsize=(20,10))\n",
    "plt.grid()                                                       # prepare a grid \n",
    "\n",
    "plt.xlim(-10, 10)\n",
    "plt.ylim(-30, 30)\n",
    "plt.xlabel('x')\n",
    "plt.ylabel('y')\n",
    "\n",
    "plt.plot(x_vals, x0_vals, linewidth = 4, label = \"x'= 0\")      # equilibrium lines \n",
    "plt.plot(x_vals, y0_vals, linewidth = 4, label = \"y'= 0\")\n",
    "\n",
    "plt.plot(x_vals + x_eq, eigen_1, linestyle = '--', label = \"eig 1\")\n",
    "plt.plot(x_vals + x_eq, eigen_2, linestyle = '--', label = \"eig 2\")\n",
    "\n",
    "plt.legend(bbox_to_anchor=(1.25, 0.55), prop={'size': 15})        # add legend, outside of the plot"
   ]
  }
 ],
 "metadata": {
  "kernelspec": {
   "display_name": "Python 3",
   "language": "python",
   "name": "python3"
  },
  "language_info": {
   "codemirror_mode": {
    "name": "ipython",
    "version": 3
   },
   "file_extension": ".py",
   "mimetype": "text/x-python",
   "name": "python",
   "nbconvert_exporter": "python",
   "pygments_lexer": "ipython3",
   "version": "3.7.4"
  }
 },
 "nbformat": 4,
 "nbformat_minor": 2
}
