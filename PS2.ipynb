{
 "cells": [
  {
   "cell_type": "markdown",
   "metadata": {},
   "source": [
    "<font size=6><b>Problem Set 2</b></font><br/>\n",
    "<font size=3>Jan Suchánek<br/>"
   ]
  },
  {
   "cell_type": "markdown",
   "metadata": {},
   "source": [
    "# Problem 1\n",
    "\n",
    "Find complete solution (without any software) of these difference equations and discuss stability of equilibrium:\n",
    "\n",
    "## a)\n",
    "\n",
    "\\begin{equation*}\n",
    "2y_{n+1} + 0.6y_n = 13\n",
    "\\end{equation*}\n",
    "\n",
    "First, I divide the equation by 2 so that coefficient by $y_{n+1}$ is equal to one.\n",
    "\n",
    "\\begin{equation*}\n",
    "y_{n+1} + 0.3y_n = 6.5\n",
    "\\end{equation*}\n",
    "\n",
    "I will start by deriving solution for homogeneous equation. Characteristic polynomial for homogeneous equation:\n",
    "\\begin{equation*}\n",
    "\\lambda + 0.3 = 0\n",
    "\\end{equation*}\n",
    "\n",
    "From this is easily derived that $FS=\\{(-0.3)^n\\}$ (Theorem about fundamental system of difference equations), which brings me to solution for homogeneous equation:\n",
    "\\begin{equation*}\n",
    "y_h(n)=c \\cdot (-0.3)^n, \\; c\\in \\mathbb{R}, n \\in \\mathbb{N}\n",
    "\\end{equation*}\n",
    "\n",
    "Now I will continue by deriving particular solution of this equation. From Theorem about particular solution can be seen that desired particular solution is equal to real constant.\n",
    "\\begin{equation*}\n",
    "y_p(n)=d, \\; d \\in \\mathbb{R}\n",
    "\\end{equation*}\n",
    "\n",
    "I will plug particular solution into original equation divided by two to derive value of $d$:\n",
    "\n",
    "\\begin{equation*}\n",
    "y_{n+1} + 0.3y_n = d+0.3d = 1.3d = 6.5 \\rightarrow d = 5 \\rightarrow y_p(n)=5\n",
    "\\end{equation*}\n",
    "\n",
    "In difference equations, following holds:\n",
    "\n",
    "\\begin{equation*}\n",
    "y(n) = y_h(n) + y_p(n)\n",
    "\\end{equation*}\n",
    "\n",
    "Therefore I can easily obtain solution:\n",
    "\n",
    "\\begin{equation*}\n",
    "y(n) = y_h(n) + y_p(n) = c \\cdot (-0.3)^n + 5, \\; c\\in \\mathbb{R}, n \\in \\mathbb{N}\n",
    "\\end{equation*}\n",
    "\n"
   ]
  },
  {
   "cell_type": "markdown",
   "metadata": {},
   "source": [
    "Stability of equilibrium:\n",
    "\n",
    "In this case it is pretty obvious that solution is oscillatory but damped (unless c = 0). Therefore equilibrium ($y^*=5$) is stable.\n",
    "\n"
   ]
  },
  {
   "cell_type": "markdown",
   "metadata": {},
   "source": [
    "## b)\n",
    "\n",
    "\\begin{equation*}\n",
    "2y_{n+2} -6y_{n+1} + 5y_n = 1\n",
    "\\end{equation*}\n",
    "\n",
    "First, I divide the equation by 2 so that coefficient by $y_{n+2}$ is equal to one.\n",
    "\n",
    "\\begin{equation*}\n",
    "y_{n+2} -3y_{n+1} + 2.5y_n = 0.5\n",
    "\\end{equation*}\n",
    "\n",
    "I will start by deriving solution for homogeneous equation. Characteristic polynomial for homogeneous equation:\n",
    "\n",
    "\\begin{equation*}\n",
    "\\lambda^2-3\\lambda+2.5=0\n",
    "\\end{equation*}\n",
    "\n",
    "I use discriminant to derive solutions for homogeneous equation:\n",
    "\n",
    "\\begin{equation*}\n",
    "D=(-3)^2-4\\cdot 2.5 = -1 \\; \\rightarrow \\; \\lambda_{1,2}=\\frac{3\\pm \\sqrt{-1}}{2}\n",
    "\\end{equation*}\n",
    "\n",
    "Solution of this equation with positive imaginary part is $1.5\\cdot(1+\\frac{i}{3})$. In order to derive Fundamental system by applying Theorem about fundamental system, I need to solve following:\n",
    "\n",
    "\\begin{equation*}\n",
    "1.5\\cdot(1+\\frac{i}{3})=\\mu (cos\\nu + isin\\nu) \\rightarrow 3sin\\nu=cos\\nu\n",
    "\\end{equation*}\n",
    "\n",
    "$\\nu \\in [0,2\\pi), \\; \\mu \\in \\mathbb{R}$. But both $sin\\nu$ and $cos\\nu$ need to be positive (Theorem about FS), which restrict $\\nu$ to $[0,\\frac{\\pi}{2})$. From $3sin\\nu=cos\\nu$ I can compute $\\nu$:\n",
    "\n",
    "\\begin{equation*}\n",
    "tan\\nu= \\frac{1}{3} \\rightarrow \\nu \\approx 0.32175\n",
    "\\end{equation*}\n",
    "\n",
    "Now value of $\\mu$ can be easily extracted by pluging back value of $\\nu$:\n",
    "\n",
    "\\begin{equation*}\n",
    "\\mu =  \\frac{1.5}{cos\\nu} \\approx = 1.58114\n",
    "\\end{equation*}\n",
    "\n",
    "In order to make my solution as little confusing as possible, I will refer to $\\mu$ and $\\nu$ by their symbols instead of their approximated values. By applying Theorem about fundamental system I get that: \n",
    "\n",
    "\\begin{equation*}\n",
    "FS=\\{ \\mu^n \\cdot cos(\\nu n),\\mu^n \\cdot sin(\\nu n) \\}\n",
    "\\end{equation*}\n",
    "\n",
    "Therefore solution for homogeneous equation\n",
    "\n",
    "\\begin{equation*}\n",
    "y_h(n)=a\\cdot \\mu^n \\cdot cos(\\nu n) + b \\cdot \\mu^n \\cdot sin(\\nu n), \\; a,b \\in \\mathbb{R}\n",
    "\\end{equation*}\n",
    "\n",
    "Now I will continue by deriving particular solution of this equation. From Theorem about particular solution can be seen that desired particular solution is equal to real constant.\n",
    "\n",
    "\\begin{equation*}\n",
    "y_p(n)=d, \\; d \\in \\mathbb{R}\n",
    "\\end{equation*}\n",
    "\n",
    "I will plug particular solution into original equation divided by two to derive value of $d$:\n",
    "\n",
    "\\begin{equation*}\n",
    "y_{n+2} - 3y_{n+1} + 2.5y_n = d - 3d + 2.5d = 0.5d = 0.5 \\rightarrow d = 1 \\rightarrow y_p(n)=1\n",
    "\\end{equation*}\n",
    "\n",
    "In difference equations, following holds:\n",
    "\n",
    "\\begin{equation*}\n",
    "y(n) = y_h(n) + y_p(n)\n",
    "\\end{equation*}\n",
    "\n",
    "Therefore I can easily obtain solution:\n",
    "\n",
    "\\begin{equation*}\n",
    "y(n) = y_h(n) + y_p(n) = a\\cdot \\mu^n \\cdot cos(\\nu n) + b \\cdot \\mu^n \\cdot sin(\\nu n) + 1 \n",
    "\\end{equation*}\n",
    "\n",
    "where\n",
    "\n",
    "\\begin{equation*}\n",
    "a,b \\in \\mathbb{R}, \\; \\nu = arctg\\Big(\\frac{1}{3}\\Big) \\approx 0.32175,\\; \\mu = \\frac{3}{2\\cdot cos\\Big(arct\\Big(\\frac{1}{3}\\Big)\\Big)} \\approx 1.58114\n",
    "\\end{equation*}\n",
    "\n"
   ]
  },
  {
   "cell_type": "markdown",
   "metadata": {},
   "source": [
    "Stability of equilibrium:\n",
    "\n",
    "If both a and b are equal to zero, solution is constant.\n",
    "\n",
    "If one of the coefficients is equal to zero and the other is nonzero: Values for both sine and cosine are restricted to interval $[-1,1]$ and $\\mu$ is strictly larger than one. Thus in this case, solution will be oscillatory and explosive. Therefore equilibrium will be unstable.\n",
    "\n",
    "If both a and b are nonzero: With $\\mu$ being strictly larger than zero and both sine and cosine being restricted to $[-1,1]$, solution will be oscillatory and explosive. Therefore equilibrium will be unstable.\n"
   ]
  },
  {
   "cell_type": "code",
   "execution_count": 1,
   "metadata": {},
   "outputs": [],
   "source": [
    "# Necessary stuff\n",
    "import inspect \n",
    "import pandas as pd\n",
    "import sympy as sp\n",
    "import numpy as np\n",
    "\n",
    "import matplotlib.pyplot as plt\n",
    "import math \n",
    "\n",
    "sp.init_printing()"
   ]
  },
  {
   "cell_type": "markdown",
   "metadata": {},
   "source": [
    "# Problem 2 - Cobbweb model\n",
    "\n",
    "My surname is \"Suchánek\". Therefore according to the table, a = 4; b = 1; c = 4; d = 0.4.\n",
    "My personalized equation:\n"
   ]
  },
  {
   "cell_type": "code",
   "execution_count": 2,
   "metadata": {},
   "outputs": [
    {
     "data": {
      "image/png": "[encoded data removed]",
      "text/latex": [
       "$\\displaystyle p{\\left(t + 1 \\right)} = - 0.4 p{\\left(t \\right)}$"
      ],
      "text/plain": [
       "p(t + 1) = -0.4⋅p(t)"
      ]
     },
     "metadata": {},
     "output_type": "display_data"
    },
    {
     "data": {
      "image/png": "[encoded data removed]",
      "text/latex": [
       "$\\displaystyle p{\\left(t \\right)} = \\left(-0.4\\right)^{t} C_{0}$"
      ],
      "text/plain": [
       "           t   \n",
       "p(t) = -0.4 ⋅C₀"
      ]
     },
     "metadata": {},
     "output_type": "display_data"
    }
   ],
   "source": [
    "t = sp.Symbol('t', integer = True)   # time\n",
    "y = sp.Function('p')                   # price\n",
    "equ = sp.Eq(y(t+1),-4/10*y(t)) #my personalized equation\n",
    "sol = sp.Eq(y(t), sp.rsolve(equ, y(t))) # solution of my personalized equation\n",
    "display(equ, sol)"
   ]
  },
  {
   "cell_type": "code",
   "execution_count": 3,
   "metadata": {},
   "outputs": [],
   "source": [
    "# the gift\n",
    "def path(fun, start, iter):\n",
    "    x = np.zeros(2*iter+1) #numpy.zeros() - Return a new array of given shape and type, filled with zeros.\n",
    "    y = np.zeros(2*iter+1)\n",
    "    x[0] = start\n",
    "    y[0] = 0\n",
    "    i = 1\n",
    "    while i < 2*iter:\n",
    "        x[i] = x[i-1]\n",
    "        y[i] = fun(x[i])\n",
    "        x[i+1] = y[i]\n",
    "        y[i+1] = y[i]\n",
    "        i += 2\n",
    "    u = np.zeros(len(x)-1)\n",
    "    v = np.zeros(len(y)-1)\n",
    "    for i in range(len(x)-1):\n",
    "        u[i] = x[i+1] - x[i]\n",
    "        v[i] = y[i+1] - y[i]\n",
    "    return(x, y, u, v)"
   ]
  },
  {
   "cell_type": "code",
   "execution_count": 4,
   "metadata": {},
   "outputs": [
    {
     "data": {
      "image/png": "[encoded data removed]",
      "text/latex": [
       "$\\displaystyle p{\\left(t + 1 \\right)} = - 0.4 p{\\left(t \\right)}$"
      ],
      "text/plain": [
       "p(t + 1) = -0.4⋅p(t)"
      ]
     },
     "metadata": {},
     "output_type": "display_data"
    },
    {
     "data": {
      "text/plain": [
       "(['def _lambdifygenerated(_Dummy_191):\\n', '    return (-0.4*_Dummy_191)\\n'],\n",
       " 0)"
      ]
     },
     "metadata": {},
     "output_type": "display_data"
    }
   ],
   "source": [
    "# prepare a python function\n",
    "recF = sp.lambdify(y(t), equ.rhs, \"numpy\")\n",
    "display(\n",
    "    equ,\n",
    "    inspect.findsource(recF)\n",
    "    )"
   ]
  },
  {
   "cell_type": "markdown",
   "metadata": {},
   "source": [
    "## Phase Diagram"
   ]
  },
  {
   "cell_type": "code",
   "execution_count": 5,
   "metadata": {},
   "outputs": [
    {
     "data": {
      "text/plain": [
       "<matplotlib.quiver.Quiver at 0x1c4984fcd48>"
      ]
     },
     "execution_count": 5,
     "metadata": {},
     "output_type": "execute_result"
    },
    {
     "data": {
      "image/png": "[encoded data removed]",
      "text/plain": [
       "<Figure size 1080x1080 with 1 Axes>"
      ]
     },
     "metadata": {
      "needs_background": "light"
     },
     "output_type": "display_data"
    }
   ],
   "source": [
    "tval = np.linspace(-5, 5, 50)\n",
    "x, y, u, v = path(recF, 4, 6)\n",
    "\n",
    "plt.figure(figsize=(15,15))\n",
    "plt.plot(tval, recF(tval))\n",
    "plt.plot(tval, tval, color = 'orange')\n",
    "plt.plot(tval, recF(tval), color=\"blue\")\n",
    "plt.vlines(0, -5, 5, color = 'black')\n",
    "plt.hlines(0, -5, 5, color = 'black')\n",
    "plt.title(\"Phase diagram of Cobbweb model\")\n",
    "plt.quiver(x[:-1],y[:-1], u, v,  angles='xy', scale_units='xy', scale=1, width = 0.002, color = 'red')"
   ]
  },
  {
   "cell_type": "markdown",
   "metadata": {},
   "source": [
    "# Solow Model\n",
    "\n",
    "Central equation of the Solow model:\n",
    "\n",
    "\\begin{equation*}\n",
    "\\dot{k}(k) = s \\cdot a \\cdot k^{\\alpha} - (n + \\delta) \\cdot k(t)\n",
    "\\end{equation*}\n"
   ]
  },
  {
   "cell_type": "markdown",
   "metadata": {},
   "source": [
    "## a) Calculation of fixed points (equilibria)\n",
    "\n",
    "I know that in equilibrium $\\dot{k}(t)$ must be equal to zero, because in equilibrium, value of $k(t)$ is staying the same. This gives me following equation:\n",
    "\n",
    "\\begin{equation*}\n",
    "0 = s \\cdot a \\cdot k^{\\alpha} - (n + \\delta) \\cdot k\n",
    "\\end{equation*}\n",
    "\n",
    "From this equation equilibrium value of k can be easily extracted:\n",
    "\n",
    "\\begin{equation*}\n",
    "s \\cdot a \\cdot k^{\\alpha} = (n + \\delta) \\cdot k\n",
    "\\end{equation*}\n",
    "\n",
    "\\begin{equation*}\n",
    "k^{\\alpha - 1} = \\frac{n + \\delta}{s \\cdot a}\n",
    "\\end{equation*}\n",
    "\n",
    "\\begin{equation*}\n",
    "k^*= \\Big(\\frac{n + \\delta}{s \\cdot a}\\Big)^{\\frac{1}{\\alpha-1}}\n",
    "\\end{equation*}\n",
    "\n",
    "If we take into account that $a= 3$, $s= 0.1$, $\\delta = 0.25$, $n = 0.1$ and $\\alpha = 0.3$, we get\n",
    "\n",
    "\\begin{equation*}\n",
    "k^*= \\Big(\\frac{0.1 + 0.25}{0.1 \\cdot 3}\\Big)^{\\frac{1}{0.3-1}} \\approx 0.8023\n",
    "\\end{equation*}\n"
   ]
  },
  {
   "cell_type": "markdown",
   "metadata": {},
   "source": [
    "## b) Establish whether equilibria are stable or unstable\n",
    "\n",
    "We get only one equilibrium point. $\\alpha$ is lower than $1$, therefore for small $k$, value of $\\dot{k}$ will be positive ($k$ cannot be lower than zero - it makes sense, as level of capital per capita cannot be negative). Of course, with larger $k$ function $\\dot{k}$ begins to decrease. Eventually, it is equal to zero in equilibrium $k^*$. Then it continues to decrease. For $k < k^*$ is value of $\\dot{k}$ positive, therefore value of $k < k^*$ will grow until it reaches $k^*$. For $k > k^*$ is value of $\\dot{k}$ negative, therefore value of $k > k^*$ will fall until it reaches $k^*$. Therefore equilibrium point is stable.\n",
    "\n",
    "Other way to solve this problem: function $\\dot{k}$ is obviously differentiable. Therefore we can take first derivative with respect to $k$ and see monotonicity of $\\dot{k}$. In equilibrium point, $\\dot{k}$ is equal to zero, around equlibrium point are values of $\\dot{k}$ nonzero. \n",
    "\n",
    "If equilibrium is stable, first derivative will be negative around equilibrium ($\\dot{k}$ will be decreasing - values of k will be attracted to equilibrium). \n",
    "\n",
    "If equilibrium is unstable, first derivative will be positive around equilibrium ($\\dot{k}$ will be increasing - values of k will be repelled from equilibrium).\n",
    "\n",
    "\n",
    "\\begin{equation*}\n",
    "\\frac{\\partial \\dot{k}(k)}{\\partial k}=s \\cdot a \\cdot \\alpha \\cdot k^{\\alpha -1} - (n+\\delta)\n",
    "\\end{equation*}\n",
    "\n",
    "Now I can plug in formula for $k^*$ from part a) of this exercise:\n",
    "\n",
    "\\begin{equation*}\n",
    "\\frac{\\partial \\dot{k}(k)}{\\partial k}=s \\cdot a \\cdot \\alpha \\cdot k^{\\alpha -1} - (n+\\delta) = s \\cdot a \\cdot \\alpha \\cdot \\Big(\\frac{n + \\delta}{s \\cdot a}\\Big)^{\\frac{\\alpha - 1}{\\alpha-1}} - (n+\\delta) = \\alpha \\cdot (n+\\delta) - (n+\\delta) = (n+\\delta) \\cdot (1 - \\alpha) < 0\n",
    "\\end{equation*}\n",
    "\n",
    "because $n + \\delta > 0$ and $\\alpha < 1 \\rightarrow \\alpha - 1 < 0$. Therefore it does not matter what values of parameters are given (as long as they are in line with assumptions of Solow model), equilibrium will be positive."
   ]
  },
  {
   "cell_type": "markdown",
   "metadata": {},
   "source": [
    "## c) Plot"
   ]
  },
  {
   "cell_type": "code",
   "execution_count": 11,
   "metadata": {},
   "outputs": [],
   "source": [
    "import ipywidgets as widgets #load necessary packages\n",
    "from ipywidgets import FloatSlider\n",
    "import sympy.abc as symb\n",
    "import math\n",
    "import numpy as np\n",
    "import matplotlib.pyplot as plt\n",
    "from matplotlib import figure\n",
    "from ipywidgets import interact"
   ]
  },
  {
   "cell_type": "code",
   "execution_count": 7,
   "metadata": {},
   "outputs": [],
   "source": []
  },
  {
   "cell_type": "code",
   "execution_count": 29,
   "metadata": {},
   "outputs": [
    {
     "data": {
      "image/png": "[encoded data removed]",
      "text/latex": [
       "$\\displaystyle \\frac{d}{d t} k{\\left(t \\right)} = a s k^{\\alpha}{\\left(t \\right)} - \\left(\\delta + n\\right) k{\\left(t \\right)}$"
      ],
      "text/plain": [
       "d               α                  \n",
       "──(k(t)) = a⋅s⋅k (t) - (δ + n)⋅k(t)\n",
       "dt                                 "
      ]
     },
     "metadata": {},
     "output_type": "display_data"
    }
   ],
   "source": [
    "s = sp.Symbol('s')\n",
    "a = sp.Symbol('a')\n",
    "n = sp.Symbol('n')\n",
    "alpha = symb.alpha\n",
    "delta = symb.delta\n",
    "t = sp.Symbol('t')\n",
    "k = sp.Function('k')(t)\n",
    "equa = sp.Eq(k.diff(), s*a*k**alpha-(n+delta)*k)\n",
    "display(equa)"
   ]
  },
  {
   "cell_type": "code",
   "execution_count": 32,
   "metadata": {},
   "outputs": [
    {
     "data": {
      "image/png": "[encoded data removed]",
      "text/latex": [
       "$\\displaystyle \\frac{d}{d t} k{\\left(t \\right)} = a s k^{\\alpha}{\\left(t \\right)} - \\left(\\delta + n\\right) k{\\left(t \\right)}$"
      ],
      "text/plain": [
       "d               α                  \n",
       "──(k(t)) = a⋅s⋅k (t) - (δ + n)⋅k(t)\n",
       "dt                                 "
      ]
     },
     "metadata": {},
     "output_type": "display_data"
    },
    {
     "data": {
      "text/plain": [
       "(['def _lambdifygenerated(_Dummy_198):\\n',\n",
       "  '    return (_Dummy_198**alpha*a*s - _Dummy_198*(delta + n))\\n'],\n",
       " 0)"
      ]
     },
     "metadata": {},
     "output_type": "display_data"
    }
   ],
   "source": [
    "equation = sp.lambdify(k, equa.rhs, \"numpy\")\n",
    "display(\n",
    "    equa,\n",
    "    inspect.findsource(equation)\n",
    "    )"
   ]
  },
  {
   "cell_type": "code",
   "execution_count": 38,
   "metadata": {},
   "outputs": [
    {
     "ename": "IndexError",
     "evalue": "index 1 is out of bounds for axis 0 with size 1",
     "output_type": "error",
     "traceback": [
      "\u001b[1;31m---------------------------------------------------------------------------\u001b[0m",
      "\u001b[1;31mIndexError\u001b[0m                                Traceback (most recent call last)",
      "\u001b[1;32m<ipython-input-38-b1c1b5175e89>\u001b[0m in \u001b[0;36m<module>\u001b[1;34m\u001b[0m\n\u001b[0;32m      3\u001b[0m \u001b[0meq_cap\u001b[0m \u001b[1;33m=\u001b[0m\u001b[0mnp\u001b[0m\u001b[1;33m.\u001b[0m\u001b[0marray\u001b[0m\u001b[1;33m(\u001b[0m\u001b[0msp\u001b[0m\u001b[1;33m.\u001b[0m\u001b[0msolve\u001b[0m\u001b[1;33m(\u001b[0m\u001b[0mbubu\u001b[0m\u001b[1;33m,\u001b[0m\u001b[0mk\u001b[0m\u001b[1;33m)\u001b[0m\u001b[1;33m)\u001b[0m\u001b[1;33m\u001b[0m\u001b[1;33m\u001b[0m\u001b[0m\n\u001b[0;32m      4\u001b[0m \u001b[0meq_cap\u001b[0m\u001b[1;33m\u001b[0m\u001b[1;33m\u001b[0m\u001b[0m\n\u001b[1;32m----> 5\u001b[1;33m \u001b[0meq_cap\u001b[0m\u001b[1;33m[\u001b[0m\u001b[1;36m1\u001b[0m\u001b[1;33m]\u001b[0m\u001b[1;33m\u001b[0m\u001b[1;33m\u001b[0m\u001b[0m\n\u001b[0m",
      "\u001b[1;31mIndexError\u001b[0m: index 1 is out of bounds for axis 0 with size 1"
     ]
    }
   ],
   "source": [
    "bubu = sp.Eq(0, equa.rhs)\n",
    "bubu\n",
    "eq_cap =np.array(sp.solve(bubu,k))\n",
    "eq_cap\n",
    "eq_cap[1]"
   ]
  },
  {
   "cell_type": "code",
   "execution_count": 40,
   "metadata": {},
   "outputs": [
    {
     "ename": "NameError",
     "evalue": "name 'A' is not defined",
     "output_type": "error",
     "traceback": [
      "\u001b[1;31m---------------------------------------------------------------------------\u001b[0m",
      "\u001b[1;31mNameError\u001b[0m                                 Traceback (most recent call last)",
      "\u001b[1;32m<ipython-input-40-32dde5633917>\u001b[0m in \u001b[0;36m<module>\u001b[1;34m\u001b[0m\n\u001b[0;32m      1\u001b[0m \u001b[0mt\u001b[0m \u001b[1;33m=\u001b[0m \u001b[0msp\u001b[0m\u001b[1;33m.\u001b[0m\u001b[0mSymbol\u001b[0m\u001b[1;33m(\u001b[0m\u001b[1;34m't'\u001b[0m\u001b[1;33m,\u001b[0m \u001b[0minteger\u001b[0m \u001b[1;33m=\u001b[0m \u001b[1;32mTrue\u001b[0m\u001b[1;33m)\u001b[0m\u001b[1;33m\u001b[0m\u001b[1;33m\u001b[0m\u001b[0m\n\u001b[0;32m      2\u001b[0m \u001b[0mk\u001b[0m \u001b[1;33m=\u001b[0m \u001b[0msp\u001b[0m\u001b[1;33m.\u001b[0m\u001b[0mFunction\u001b[0m\u001b[1;33m(\u001b[0m\u001b[1;34m'k'\u001b[0m\u001b[1;33m)\u001b[0m\u001b[1;33m\u001b[0m\u001b[1;33m\u001b[0m\u001b[0m\n\u001b[1;32m----> 3\u001b[1;33m \u001b[0mrec\u001b[0m \u001b[1;33m=\u001b[0m \u001b[0msp\u001b[0m\u001b[1;33m.\u001b[0m\u001b[0mEq\u001b[0m\u001b[1;33m(\u001b[0m\u001b[0mk\u001b[0m\u001b[1;33m(\u001b[0m\u001b[0mt\u001b[0m\u001b[1;33m)\u001b[0m\u001b[1;33m.\u001b[0m\u001b[0mdiff\u001b[0m\u001b[1;33m(\u001b[0m\u001b[1;33m)\u001b[0m\u001b[1;33m,\u001b[0m \u001b[0ms\u001b[0m\u001b[1;33m*\u001b[0m\u001b[0mA\u001b[0m\u001b[1;33m*\u001b[0m\u001b[0mk\u001b[0m\u001b[1;33m(\u001b[0m\u001b[0mt\u001b[0m\u001b[1;33m)\u001b[0m\u001b[1;33m**\u001b[0m\u001b[0ma\u001b[0m \u001b[1;33m-\u001b[0m \u001b[1;33m(\u001b[0m\u001b[0mn\u001b[0m\u001b[1;33m+\u001b[0m\u001b[0md\u001b[0m\u001b[1;33m)\u001b[0m\u001b[1;33m*\u001b[0m\u001b[0mk\u001b[0m\u001b[1;33m(\u001b[0m\u001b[0mt\u001b[0m\u001b[1;33m)\u001b[0m\u001b[1;33m)\u001b[0m\u001b[1;33m\u001b[0m\u001b[1;33m\u001b[0m\u001b[0m\n\u001b[0m\u001b[0;32m      4\u001b[0m \u001b[0mrecF\u001b[0m \u001b[1;33m=\u001b[0m \u001b[0msp\u001b[0m\u001b[1;33m.\u001b[0m\u001b[0mlambdify\u001b[0m\u001b[1;33m(\u001b[0m\u001b[0mk\u001b[0m\u001b[1;33m(\u001b[0m\u001b[0mt\u001b[0m\u001b[1;33m)\u001b[0m\u001b[1;33m,\u001b[0m \u001b[0mrec\u001b[0m\u001b[1;33m.\u001b[0m\u001b[0mrhs\u001b[0m\u001b[1;33m,\u001b[0m \u001b[1;34m\"numpy\"\u001b[0m\u001b[1;33m)\u001b[0m\u001b[1;33m\u001b[0m\u001b[1;33m\u001b[0m\u001b[0m\n\u001b[0;32m      5\u001b[0m \u001b[0msteady\u001b[0m\u001b[1;33m=\u001b[0m \u001b[0msp\u001b[0m\u001b[1;33m.\u001b[0m\u001b[0mEq\u001b[0m\u001b[1;33m(\u001b[0m\u001b[1;36m0\u001b[0m\u001b[1;33m,\u001b[0m \u001b[0ms\u001b[0m\u001b[1;33m*\u001b[0m\u001b[0mA\u001b[0m\u001b[1;33m*\u001b[0m\u001b[0mk\u001b[0m\u001b[1;33m(\u001b[0m\u001b[0mt\u001b[0m\u001b[1;33m)\u001b[0m\u001b[1;33m**\u001b[0m\u001b[0ma\u001b[0m \u001b[1;33m-\u001b[0m \u001b[1;33m(\u001b[0m\u001b[0mn\u001b[0m\u001b[1;33m+\u001b[0m\u001b[0md\u001b[0m\u001b[1;33m)\u001b[0m\u001b[1;33m*\u001b[0m\u001b[0mk\u001b[0m\u001b[1;33m(\u001b[0m\u001b[0mt\u001b[0m\u001b[1;33m)\u001b[0m\u001b[1;33m)\u001b[0m\u001b[1;33m\u001b[0m\u001b[1;33m\u001b[0m\u001b[0m\n",
      "\u001b[1;31mNameError\u001b[0m: name 'A' is not defined"
     ]
    }
   ],
   "source": [
    "t = sp.Symbol('t', integer = True)\n",
    "k = sp.Function('k')\n",
    "rec = sp.Eq(k(t).diff(), s*A*k(t)**a - (n+d)*k(t))\n",
    "recF = sp.lambdify(k(t), rec.rhs, \"numpy\")\n",
    "steady= sp.Eq(0, s*A*k(t)**a - (n+d)*k(t))\n",
    "kstar=numpy.array(sp.solve(steady,k(t)))\n",
    "a=kstar[1]"
   ]
  },
  {
   "cell_type": "code",
   "execution_count": 72,
   "metadata": {},
   "outputs": [
    {
     "data": {
      "application/vnd.jupyter.widget-view+json": {
       "model_id": "80649ac27a0e4df3a139cd6f49fb925c",
       "version_major": 2,
       "version_minor": 0
      },
      "text/plain": [
       "interactive(children=(FloatSlider(value=0.1, description='s', max=1.0, step=0.01), FloatSlider(value=3.0, desc…"
      ]
     },
     "metadata": {},
     "output_type": "display_data"
    }
   ],
   "source": [
    "def fs(val, min, max, step):\n",
    "    return FloatSlider(value=val, min=min, max=max, step=step, continuous_update = True)\n",
    "\n",
    "@interact\n",
    "def muj_graf(s=fs(0.1,0,1,0.01),a=fs(3,0,5,0.01),alpha=fs(0.3,0,1,0.01),n=fs(0.1,0,1,0.01),delta=fs(0.25,0,1,0.01)):\n",
    "    t = sp.Symbol('t')\n",
    "    k = sp.Function('k')(t)\n",
    "    difr = sp.Eq(k.diff(), s*a*k**alpha-(n+delta)*k)\n",
    "    difr2 = sp.lambdify(k, difr.rhs, \"numpy\")\n",
    "    steady_state = sp.Eq(0, difr.rhs)\n",
    "    eq_cap =np.array(sp.solve(steady_state,k))\n",
    "    eq_cap[1]\n",
    "    print(eq_cap[1])\n",
    "    display(\n",
    "    di\n",
    "    \n",
    "    max = round(eq_cap[1]*2)\n",
    "    print(max)\n",
    "    t_defined = np.linspace(0, max, 500)\n",
    "    plt.figure(figsize=(5,5))\n",
    "    plt.plot(t_defined, difr2(t_defined),color=\"green\",label=\"k'\")\n",
    "    plt.scatter(eq_cap[1],0,label=\"equilibrium value of k\")\n",
    "    plt.legend()\n",
    "    plt.vlines(0,-1,1, color = 'black')\n",
    "    plt.hlines(0,-1,eq_cap[1]*2, color = 'black')\n",
    "    return plt.figure()\n"
   ]
  }
 ],
 "metadata": {
  "kernelspec": {
   "display_name": "Python 3",
   "language": "python",
   "name": "python3"
  },
  "language_info": {
   "codemirror_mode": {
    "name": "ipython",
    "version": 3
   },
   "file_extension": ".py",
   "mimetype": "text/x-python",
   "name": "python",
   "nbconvert_exporter": "python",
   "pygments_lexer": "ipython3",
   "version": "3.7.4"
  }
 },
 "nbformat": 4,
 "nbformat_minor": 2
}
